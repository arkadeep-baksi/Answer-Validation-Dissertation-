{
  "nbformat": 4,
  "nbformat_minor": 0,
  "metadata": {
    "colab": {
      "name": "BERT_Paraphrase_Detection.ipynb",
      "provenance": [],
      "collapsed_sections": []
    },
    "kernelspec": {
      "name": "python3",
      "display_name": "Python 3"
    },
    "language_info": {
      "name": "python"
    },
    "accelerator": "GPU",
    "widgets": {
      "application/vnd.jupyter.widget-state+json": {
        "9a559b6efe43495685e8bce35c940f05": {
          "model_module": "@jupyter-widgets/controls",
          "model_name": "HBoxModel",
          "model_module_version": "1.5.0",
          "state": {
            "_dom_classes": [],
            "_model_module": "@jupyter-widgets/controls",
            "_model_module_version": "1.5.0",
            "_model_name": "HBoxModel",
            "_view_count": null,
            "_view_module": "@jupyter-widgets/controls",
            "_view_module_version": "1.5.0",
            "_view_name": "HBoxView",
            "box_style": "",
            "children": [
              "IPY_MODEL_71141eb740d14cd2a350e7d024c11767",
              "IPY_MODEL_882af92bed25415b9a74f86e2e72b4df",
              "IPY_MODEL_3294822a6a08405989bd1fd3f2e20ae5"
            ],
            "layout": "IPY_MODEL_6843086aa233410c97924ff3c03475d4"
          }
        },
        "71141eb740d14cd2a350e7d024c11767": {
          "model_module": "@jupyter-widgets/controls",
          "model_name": "HTMLModel",
          "model_module_version": "1.5.0",
          "state": {
            "_dom_classes": [],
            "_model_module": "@jupyter-widgets/controls",
            "_model_module_version": "1.5.0",
            "_model_name": "HTMLModel",
            "_view_count": null,
            "_view_module": "@jupyter-widgets/controls",
            "_view_module_version": "1.5.0",
            "_view_name": "HTMLView",
            "description": "",
            "description_tooltip": null,
            "layout": "IPY_MODEL_1f12938540f54ef89c7d37219c40b45d",
            "placeholder": "​",
            "style": "IPY_MODEL_19e44c54873a408cb3cf8535c8c6ed5c",
            "value": "Downloading: 100%"
          }
        },
        "882af92bed25415b9a74f86e2e72b4df": {
          "model_module": "@jupyter-widgets/controls",
          "model_name": "FloatProgressModel",
          "model_module_version": "1.5.0",
          "state": {
            "_dom_classes": [],
            "_model_module": "@jupyter-widgets/controls",
            "_model_module_version": "1.5.0",
            "_model_name": "FloatProgressModel",
            "_view_count": null,
            "_view_module": "@jupyter-widgets/controls",
            "_view_module_version": "1.5.0",
            "_view_name": "ProgressView",
            "bar_style": "success",
            "description": "",
            "description_tooltip": null,
            "layout": "IPY_MODEL_f4c4c24e220445259e9398dd1c3c3e17",
            "max": 231508,
            "min": 0,
            "orientation": "horizontal",
            "style": "IPY_MODEL_46e8ff84b78e4493b5a30593b72385dc",
            "value": 231508
          }
        },
        "3294822a6a08405989bd1fd3f2e20ae5": {
          "model_module": "@jupyter-widgets/controls",
          "model_name": "HTMLModel",
          "model_module_version": "1.5.0",
          "state": {
            "_dom_classes": [],
            "_model_module": "@jupyter-widgets/controls",
            "_model_module_version": "1.5.0",
            "_model_name": "HTMLModel",
            "_view_count": null,
            "_view_module": "@jupyter-widgets/controls",
            "_view_module_version": "1.5.0",
            "_view_name": "HTMLView",
            "description": "",
            "description_tooltip": null,
            "layout": "IPY_MODEL_55977759bf2042a48beb233257553086",
            "placeholder": "​",
            "style": "IPY_MODEL_a5333a88263e4ca69938789dabb76fd1",
            "value": " 226k/226k [00:00&lt;00:00, 1.52MB/s]"
          }
        },
        "6843086aa233410c97924ff3c03475d4": {
          "model_module": "@jupyter-widgets/base",
          "model_name": "LayoutModel",
          "model_module_version": "1.2.0",
          "state": {
            "_model_module": "@jupyter-widgets/base",
            "_model_module_version": "1.2.0",
            "_model_name": "LayoutModel",
            "_view_count": null,
            "_view_module": "@jupyter-widgets/base",
            "_view_module_version": "1.2.0",
            "_view_name": "LayoutView",
            "align_content": null,
            "align_items": null,
            "align_self": null,
            "border": null,
            "bottom": null,
            "display": null,
            "flex": null,
            "flex_flow": null,
            "grid_area": null,
            "grid_auto_columns": null,
            "grid_auto_flow": null,
            "grid_auto_rows": null,
            "grid_column": null,
            "grid_gap": null,
            "grid_row": null,
            "grid_template_areas": null,
            "grid_template_columns": null,
            "grid_template_rows": null,
            "height": null,
            "justify_content": null,
            "justify_items": null,
            "left": null,
            "margin": null,
            "max_height": null,
            "max_width": null,
            "min_height": null,
            "min_width": null,
            "object_fit": null,
            "object_position": null,
            "order": null,
            "overflow": null,
            "overflow_x": null,
            "overflow_y": null,
            "padding": null,
            "right": null,
            "top": null,
            "visibility": null,
            "width": null
          }
        },
        "1f12938540f54ef89c7d37219c40b45d": {
          "model_module": "@jupyter-widgets/base",
          "model_name": "LayoutModel",
          "model_module_version": "1.2.0",
          "state": {
            "_model_module": "@jupyter-widgets/base",
            "_model_module_version": "1.2.0",
            "_model_name": "LayoutModel",
            "_view_count": null,
            "_view_module": "@jupyter-widgets/base",
            "_view_module_version": "1.2.0",
            "_view_name": "LayoutView",
            "align_content": null,
            "align_items": null,
            "align_self": null,
            "border": null,
            "bottom": null,
            "display": null,
            "flex": null,
            "flex_flow": null,
            "grid_area": null,
            "grid_auto_columns": null,
            "grid_auto_flow": null,
            "grid_auto_rows": null,
            "grid_column": null,
            "grid_gap": null,
            "grid_row": null,
            "grid_template_areas": null,
            "grid_template_columns": null,
            "grid_template_rows": null,
            "height": null,
            "justify_content": null,
            "justify_items": null,
            "left": null,
            "margin": null,
            "max_height": null,
            "max_width": null,
            "min_height": null,
            "min_width": null,
            "object_fit": null,
            "object_position": null,
            "order": null,
            "overflow": null,
            "overflow_x": null,
            "overflow_y": null,
            "padding": null,
            "right": null,
            "top": null,
            "visibility": null,
            "width": null
          }
        },
        "19e44c54873a408cb3cf8535c8c6ed5c": {
          "model_module": "@jupyter-widgets/controls",
          "model_name": "DescriptionStyleModel",
          "model_module_version": "1.5.0",
          "state": {
            "_model_module": "@jupyter-widgets/controls",
            "_model_module_version": "1.5.0",
            "_model_name": "DescriptionStyleModel",
            "_view_count": null,
            "_view_module": "@jupyter-widgets/base",
            "_view_module_version": "1.2.0",
            "_view_name": "StyleView",
            "description_width": ""
          }
        },
        "f4c4c24e220445259e9398dd1c3c3e17": {
          "model_module": "@jupyter-widgets/base",
          "model_name": "LayoutModel",
          "model_module_version": "1.2.0",
          "state": {
            "_model_module": "@jupyter-widgets/base",
            "_model_module_version": "1.2.0",
            "_model_name": "LayoutModel",
            "_view_count": null,
            "_view_module": "@jupyter-widgets/base",
            "_view_module_version": "1.2.0",
            "_view_name": "LayoutView",
            "align_content": null,
            "align_items": null,
            "align_self": null,
            "border": null,
            "bottom": null,
            "display": null,
            "flex": null,
            "flex_flow": null,
            "grid_area": null,
            "grid_auto_columns": null,
            "grid_auto_flow": null,
            "grid_auto_rows": null,
            "grid_column": null,
            "grid_gap": null,
            "grid_row": null,
            "grid_template_areas": null,
            "grid_template_columns": null,
            "grid_template_rows": null,
            "height": null,
            "justify_content": null,
            "justify_items": null,
            "left": null,
            "margin": null,
            "max_height": null,
            "max_width": null,
            "min_height": null,
            "min_width": null,
            "object_fit": null,
            "object_position": null,
            "order": null,
            "overflow": null,
            "overflow_x": null,
            "overflow_y": null,
            "padding": null,
            "right": null,
            "top": null,
            "visibility": null,
            "width": null
          }
        },
        "46e8ff84b78e4493b5a30593b72385dc": {
          "model_module": "@jupyter-widgets/controls",
          "model_name": "ProgressStyleModel",
          "model_module_version": "1.5.0",
          "state": {
            "_model_module": "@jupyter-widgets/controls",
            "_model_module_version": "1.5.0",
            "_model_name": "ProgressStyleModel",
            "_view_count": null,
            "_view_module": "@jupyter-widgets/base",
            "_view_module_version": "1.2.0",
            "_view_name": "StyleView",
            "bar_color": null,
            "description_width": ""
          }
        },
        "55977759bf2042a48beb233257553086": {
          "model_module": "@jupyter-widgets/base",
          "model_name": "LayoutModel",
          "model_module_version": "1.2.0",
          "state": {
            "_model_module": "@jupyter-widgets/base",
            "_model_module_version": "1.2.0",
            "_model_name": "LayoutModel",
            "_view_count": null,
            "_view_module": "@jupyter-widgets/base",
            "_view_module_version": "1.2.0",
            "_view_name": "LayoutView",
            "align_content": null,
            "align_items": null,
            "align_self": null,
            "border": null,
            "bottom": null,
            "display": null,
            "flex": null,
            "flex_flow": null,
            "grid_area": null,
            "grid_auto_columns": null,
            "grid_auto_flow": null,
            "grid_auto_rows": null,
            "grid_column": null,
            "grid_gap": null,
            "grid_row": null,
            "grid_template_areas": null,
            "grid_template_columns": null,
            "grid_template_rows": null,
            "height": null,
            "justify_content": null,
            "justify_items": null,
            "left": null,
            "margin": null,
            "max_height": null,
            "max_width": null,
            "min_height": null,
            "min_width": null,
            "object_fit": null,
            "object_position": null,
            "order": null,
            "overflow": null,
            "overflow_x": null,
            "overflow_y": null,
            "padding": null,
            "right": null,
            "top": null,
            "visibility": null,
            "width": null
          }
        },
        "a5333a88263e4ca69938789dabb76fd1": {
          "model_module": "@jupyter-widgets/controls",
          "model_name": "DescriptionStyleModel",
          "model_module_version": "1.5.0",
          "state": {
            "_model_module": "@jupyter-widgets/controls",
            "_model_module_version": "1.5.0",
            "_model_name": "DescriptionStyleModel",
            "_view_count": null,
            "_view_module": "@jupyter-widgets/base",
            "_view_module_version": "1.2.0",
            "_view_name": "StyleView",
            "description_width": ""
          }
        },
        "38136d64b4e8423fb2ee7a17c9628935": {
          "model_module": "@jupyter-widgets/controls",
          "model_name": "HBoxModel",
          "model_module_version": "1.5.0",
          "state": {
            "_dom_classes": [],
            "_model_module": "@jupyter-widgets/controls",
            "_model_module_version": "1.5.0",
            "_model_name": "HBoxModel",
            "_view_count": null,
            "_view_module": "@jupyter-widgets/controls",
            "_view_module_version": "1.5.0",
            "_view_name": "HBoxView",
            "box_style": "",
            "children": [
              "IPY_MODEL_6621745263c84ca8ba4c898d439ac3a1",
              "IPY_MODEL_3d0b6515ccca48978664a67c77f58ad6",
              "IPY_MODEL_73f48e7f30094e44b4e2b28c9ed778cb"
            ],
            "layout": "IPY_MODEL_691dc3d2488f4ebaa17d4d4505041749"
          }
        },
        "6621745263c84ca8ba4c898d439ac3a1": {
          "model_module": "@jupyter-widgets/controls",
          "model_name": "HTMLModel",
          "model_module_version": "1.5.0",
          "state": {
            "_dom_classes": [],
            "_model_module": "@jupyter-widgets/controls",
            "_model_module_version": "1.5.0",
            "_model_name": "HTMLModel",
            "_view_count": null,
            "_view_module": "@jupyter-widgets/controls",
            "_view_module_version": "1.5.0",
            "_view_name": "HTMLView",
            "description": "",
            "description_tooltip": null,
            "layout": "IPY_MODEL_6c735cc53a134d7d88034720d7fe4831",
            "placeholder": "​",
            "style": "IPY_MODEL_20f31d025ddf443297070b2644ab8876",
            "value": "Downloading: 100%"
          }
        },
        "3d0b6515ccca48978664a67c77f58ad6": {
          "model_module": "@jupyter-widgets/controls",
          "model_name": "FloatProgressModel",
          "model_module_version": "1.5.0",
          "state": {
            "_dom_classes": [],
            "_model_module": "@jupyter-widgets/controls",
            "_model_module_version": "1.5.0",
            "_model_name": "FloatProgressModel",
            "_view_count": null,
            "_view_module": "@jupyter-widgets/controls",
            "_view_module_version": "1.5.0",
            "_view_name": "ProgressView",
            "bar_style": "success",
            "description": "",
            "description_tooltip": null,
            "layout": "IPY_MODEL_cc36703bec914b2e97f60c1d1845482a",
            "max": 28,
            "min": 0,
            "orientation": "horizontal",
            "style": "IPY_MODEL_5ed1812dc5fe4e4d85ad44463d27b286",
            "value": 28
          }
        },
        "73f48e7f30094e44b4e2b28c9ed778cb": {
          "model_module": "@jupyter-widgets/controls",
          "model_name": "HTMLModel",
          "model_module_version": "1.5.0",
          "state": {
            "_dom_classes": [],
            "_model_module": "@jupyter-widgets/controls",
            "_model_module_version": "1.5.0",
            "_model_name": "HTMLModel",
            "_view_count": null,
            "_view_module": "@jupyter-widgets/controls",
            "_view_module_version": "1.5.0",
            "_view_name": "HTMLView",
            "description": "",
            "description_tooltip": null,
            "layout": "IPY_MODEL_9a46650537ab4dbf98411ee368c23f51",
            "placeholder": "​",
            "style": "IPY_MODEL_3ded557948b54fafa417cbf6bad1e797",
            "value": " 28.0/28.0 [00:00&lt;00:00, 711B/s]"
          }
        },
        "691dc3d2488f4ebaa17d4d4505041749": {
          "model_module": "@jupyter-widgets/base",
          "model_name": "LayoutModel",
          "model_module_version": "1.2.0",
          "state": {
            "_model_module": "@jupyter-widgets/base",
            "_model_module_version": "1.2.0",
            "_model_name": "LayoutModel",
            "_view_count": null,
            "_view_module": "@jupyter-widgets/base",
            "_view_module_version": "1.2.0",
            "_view_name": "LayoutView",
            "align_content": null,
            "align_items": null,
            "align_self": null,
            "border": null,
            "bottom": null,
            "display": null,
            "flex": null,
            "flex_flow": null,
            "grid_area": null,
            "grid_auto_columns": null,
            "grid_auto_flow": null,
            "grid_auto_rows": null,
            "grid_column": null,
            "grid_gap": null,
            "grid_row": null,
            "grid_template_areas": null,
            "grid_template_columns": null,
            "grid_template_rows": null,
            "height": null,
            "justify_content": null,
            "justify_items": null,
            "left": null,
            "margin": null,
            "max_height": null,
            "max_width": null,
            "min_height": null,
            "min_width": null,
            "object_fit": null,
            "object_position": null,
            "order": null,
            "overflow": null,
            "overflow_x": null,
            "overflow_y": null,
            "padding": null,
            "right": null,
            "top": null,
            "visibility": null,
            "width": null
          }
        },
        "6c735cc53a134d7d88034720d7fe4831": {
          "model_module": "@jupyter-widgets/base",
          "model_name": "LayoutModel",
          "model_module_version": "1.2.0",
          "state": {
            "_model_module": "@jupyter-widgets/base",
            "_model_module_version": "1.2.0",
            "_model_name": "LayoutModel",
            "_view_count": null,
            "_view_module": "@jupyter-widgets/base",
            "_view_module_version": "1.2.0",
            "_view_name": "LayoutView",
            "align_content": null,
            "align_items": null,
            "align_self": null,
            "border": null,
            "bottom": null,
            "display": null,
            "flex": null,
            "flex_flow": null,
            "grid_area": null,
            "grid_auto_columns": null,
            "grid_auto_flow": null,
            "grid_auto_rows": null,
            "grid_column": null,
            "grid_gap": null,
            "grid_row": null,
            "grid_template_areas": null,
            "grid_template_columns": null,
            "grid_template_rows": null,
            "height": null,
            "justify_content": null,
            "justify_items": null,
            "left": null,
            "margin": null,
            "max_height": null,
            "max_width": null,
            "min_height": null,
            "min_width": null,
            "object_fit": null,
            "object_position": null,
            "order": null,
            "overflow": null,
            "overflow_x": null,
            "overflow_y": null,
            "padding": null,
            "right": null,
            "top": null,
            "visibility": null,
            "width": null
          }
        },
        "20f31d025ddf443297070b2644ab8876": {
          "model_module": "@jupyter-widgets/controls",
          "model_name": "DescriptionStyleModel",
          "model_module_version": "1.5.0",
          "state": {
            "_model_module": "@jupyter-widgets/controls",
            "_model_module_version": "1.5.0",
            "_model_name": "DescriptionStyleModel",
            "_view_count": null,
            "_view_module": "@jupyter-widgets/base",
            "_view_module_version": "1.2.0",
            "_view_name": "StyleView",
            "description_width": ""
          }
        },
        "cc36703bec914b2e97f60c1d1845482a": {
          "model_module": "@jupyter-widgets/base",
          "model_name": "LayoutModel",
          "model_module_version": "1.2.0",
          "state": {
            "_model_module": "@jupyter-widgets/base",
            "_model_module_version": "1.2.0",
            "_model_name": "LayoutModel",
            "_view_count": null,
            "_view_module": "@jupyter-widgets/base",
            "_view_module_version": "1.2.0",
            "_view_name": "LayoutView",
            "align_content": null,
            "align_items": null,
            "align_self": null,
            "border": null,
            "bottom": null,
            "display": null,
            "flex": null,
            "flex_flow": null,
            "grid_area": null,
            "grid_auto_columns": null,
            "grid_auto_flow": null,
            "grid_auto_rows": null,
            "grid_column": null,
            "grid_gap": null,
            "grid_row": null,
            "grid_template_areas": null,
            "grid_template_columns": null,
            "grid_template_rows": null,
            "height": null,
            "justify_content": null,
            "justify_items": null,
            "left": null,
            "margin": null,
            "max_height": null,
            "max_width": null,
            "min_height": null,
            "min_width": null,
            "object_fit": null,
            "object_position": null,
            "order": null,
            "overflow": null,
            "overflow_x": null,
            "overflow_y": null,
            "padding": null,
            "right": null,
            "top": null,
            "visibility": null,
            "width": null
          }
        },
        "5ed1812dc5fe4e4d85ad44463d27b286": {
          "model_module": "@jupyter-widgets/controls",
          "model_name": "ProgressStyleModel",
          "model_module_version": "1.5.0",
          "state": {
            "_model_module": "@jupyter-widgets/controls",
            "_model_module_version": "1.5.0",
            "_model_name": "ProgressStyleModel",
            "_view_count": null,
            "_view_module": "@jupyter-widgets/base",
            "_view_module_version": "1.2.0",
            "_view_name": "StyleView",
            "bar_color": null,
            "description_width": ""
          }
        },
        "9a46650537ab4dbf98411ee368c23f51": {
          "model_module": "@jupyter-widgets/base",
          "model_name": "LayoutModel",
          "model_module_version": "1.2.0",
          "state": {
            "_model_module": "@jupyter-widgets/base",
            "_model_module_version": "1.2.0",
            "_model_name": "LayoutModel",
            "_view_count": null,
            "_view_module": "@jupyter-widgets/base",
            "_view_module_version": "1.2.0",
            "_view_name": "LayoutView",
            "align_content": null,
            "align_items": null,
            "align_self": null,
            "border": null,
            "bottom": null,
            "display": null,
            "flex": null,
            "flex_flow": null,
            "grid_area": null,
            "grid_auto_columns": null,
            "grid_auto_flow": null,
            "grid_auto_rows": null,
            "grid_column": null,
            "grid_gap": null,
            "grid_row": null,
            "grid_template_areas": null,
            "grid_template_columns": null,
            "grid_template_rows": null,
            "height": null,
            "justify_content": null,
            "justify_items": null,
            "left": null,
            "margin": null,
            "max_height": null,
            "max_width": null,
            "min_height": null,
            "min_width": null,
            "object_fit": null,
            "object_position": null,
            "order": null,
            "overflow": null,
            "overflow_x": null,
            "overflow_y": null,
            "padding": null,
            "right": null,
            "top": null,
            "visibility": null,
            "width": null
          }
        },
        "3ded557948b54fafa417cbf6bad1e797": {
          "model_module": "@jupyter-widgets/controls",
          "model_name": "DescriptionStyleModel",
          "model_module_version": "1.5.0",
          "state": {
            "_model_module": "@jupyter-widgets/controls",
            "_model_module_version": "1.5.0",
            "_model_name": "DescriptionStyleModel",
            "_view_count": null,
            "_view_module": "@jupyter-widgets/base",
            "_view_module_version": "1.2.0",
            "_view_name": "StyleView",
            "description_width": ""
          }
        },
        "bcfaf19f1e174f07a044ba3162a7eba0": {
          "model_module": "@jupyter-widgets/controls",
          "model_name": "HBoxModel",
          "model_module_version": "1.5.0",
          "state": {
            "_dom_classes": [],
            "_model_module": "@jupyter-widgets/controls",
            "_model_module_version": "1.5.0",
            "_model_name": "HBoxModel",
            "_view_count": null,
            "_view_module": "@jupyter-widgets/controls",
            "_view_module_version": "1.5.0",
            "_view_name": "HBoxView",
            "box_style": "",
            "children": [
              "IPY_MODEL_e17384b2742b468f843641fffe4216dc",
              "IPY_MODEL_ae4675ed7113447cbab7bbb84697ad77",
              "IPY_MODEL_f9fedda17699484e97b4e90c460b42fc"
            ],
            "layout": "IPY_MODEL_fb6eedf3f1954d36a408867bd6756423"
          }
        },
        "e17384b2742b468f843641fffe4216dc": {
          "model_module": "@jupyter-widgets/controls",
          "model_name": "HTMLModel",
          "model_module_version": "1.5.0",
          "state": {
            "_dom_classes": [],
            "_model_module": "@jupyter-widgets/controls",
            "_model_module_version": "1.5.0",
            "_model_name": "HTMLModel",
            "_view_count": null,
            "_view_module": "@jupyter-widgets/controls",
            "_view_module_version": "1.5.0",
            "_view_name": "HTMLView",
            "description": "",
            "description_tooltip": null,
            "layout": "IPY_MODEL_e971f2fc3227448d985ace44f94ab97b",
            "placeholder": "​",
            "style": "IPY_MODEL_c6579048e16d471983db4f0ef4034945",
            "value": "Downloading: 100%"
          }
        },
        "ae4675ed7113447cbab7bbb84697ad77": {
          "model_module": "@jupyter-widgets/controls",
          "model_name": "FloatProgressModel",
          "model_module_version": "1.5.0",
          "state": {
            "_dom_classes": [],
            "_model_module": "@jupyter-widgets/controls",
            "_model_module_version": "1.5.0",
            "_model_name": "FloatProgressModel",
            "_view_count": null,
            "_view_module": "@jupyter-widgets/controls",
            "_view_module_version": "1.5.0",
            "_view_name": "ProgressView",
            "bar_style": "success",
            "description": "",
            "description_tooltip": null,
            "layout": "IPY_MODEL_43c9af3f5e214f9ba85f70786e90f030",
            "max": 570,
            "min": 0,
            "orientation": "horizontal",
            "style": "IPY_MODEL_9d987001c3ba4496b4b33c363195461b",
            "value": 570
          }
        },
        "f9fedda17699484e97b4e90c460b42fc": {
          "model_module": "@jupyter-widgets/controls",
          "model_name": "HTMLModel",
          "model_module_version": "1.5.0",
          "state": {
            "_dom_classes": [],
            "_model_module": "@jupyter-widgets/controls",
            "_model_module_version": "1.5.0",
            "_model_name": "HTMLModel",
            "_view_count": null,
            "_view_module": "@jupyter-widgets/controls",
            "_view_module_version": "1.5.0",
            "_view_name": "HTMLView",
            "description": "",
            "description_tooltip": null,
            "layout": "IPY_MODEL_c2b54f0df9a9471985028117654e1fa0",
            "placeholder": "​",
            "style": "IPY_MODEL_a3816b65a7414326a23cae526c1d47ce",
            "value": " 570/570 [00:00&lt;00:00, 16.1kB/s]"
          }
        },
        "fb6eedf3f1954d36a408867bd6756423": {
          "model_module": "@jupyter-widgets/base",
          "model_name": "LayoutModel",
          "model_module_version": "1.2.0",
          "state": {
            "_model_module": "@jupyter-widgets/base",
            "_model_module_version": "1.2.0",
            "_model_name": "LayoutModel",
            "_view_count": null,
            "_view_module": "@jupyter-widgets/base",
            "_view_module_version": "1.2.0",
            "_view_name": "LayoutView",
            "align_content": null,
            "align_items": null,
            "align_self": null,
            "border": null,
            "bottom": null,
            "display": null,
            "flex": null,
            "flex_flow": null,
            "grid_area": null,
            "grid_auto_columns": null,
            "grid_auto_flow": null,
            "grid_auto_rows": null,
            "grid_column": null,
            "grid_gap": null,
            "grid_row": null,
            "grid_template_areas": null,
            "grid_template_columns": null,
            "grid_template_rows": null,
            "height": null,
            "justify_content": null,
            "justify_items": null,
            "left": null,
            "margin": null,
            "max_height": null,
            "max_width": null,
            "min_height": null,
            "min_width": null,
            "object_fit": null,
            "object_position": null,
            "order": null,
            "overflow": null,
            "overflow_x": null,
            "overflow_y": null,
            "padding": null,
            "right": null,
            "top": null,
            "visibility": null,
            "width": null
          }
        },
        "e971f2fc3227448d985ace44f94ab97b": {
          "model_module": "@jupyter-widgets/base",
          "model_name": "LayoutModel",
          "model_module_version": "1.2.0",
          "state": {
            "_model_module": "@jupyter-widgets/base",
            "_model_module_version": "1.2.0",
            "_model_name": "LayoutModel",
            "_view_count": null,
            "_view_module": "@jupyter-widgets/base",
            "_view_module_version": "1.2.0",
            "_view_name": "LayoutView",
            "align_content": null,
            "align_items": null,
            "align_self": null,
            "border": null,
            "bottom": null,
            "display": null,
            "flex": null,
            "flex_flow": null,
            "grid_area": null,
            "grid_auto_columns": null,
            "grid_auto_flow": null,
            "grid_auto_rows": null,
            "grid_column": null,
            "grid_gap": null,
            "grid_row": null,
            "grid_template_areas": null,
            "grid_template_columns": null,
            "grid_template_rows": null,
            "height": null,
            "justify_content": null,
            "justify_items": null,
            "left": null,
            "margin": null,
            "max_height": null,
            "max_width": null,
            "min_height": null,
            "min_width": null,
            "object_fit": null,
            "object_position": null,
            "order": null,
            "overflow": null,
            "overflow_x": null,
            "overflow_y": null,
            "padding": null,
            "right": null,
            "top": null,
            "visibility": null,
            "width": null
          }
        },
        "c6579048e16d471983db4f0ef4034945": {
          "model_module": "@jupyter-widgets/controls",
          "model_name": "DescriptionStyleModel",
          "model_module_version": "1.5.0",
          "state": {
            "_model_module": "@jupyter-widgets/controls",
            "_model_module_version": "1.5.0",
            "_model_name": "DescriptionStyleModel",
            "_view_count": null,
            "_view_module": "@jupyter-widgets/base",
            "_view_module_version": "1.2.0",
            "_view_name": "StyleView",
            "description_width": ""
          }
        },
        "43c9af3f5e214f9ba85f70786e90f030": {
          "model_module": "@jupyter-widgets/base",
          "model_name": "LayoutModel",
          "model_module_version": "1.2.0",
          "state": {
            "_model_module": "@jupyter-widgets/base",
            "_model_module_version": "1.2.0",
            "_model_name": "LayoutModel",
            "_view_count": null,
            "_view_module": "@jupyter-widgets/base",
            "_view_module_version": "1.2.0",
            "_view_name": "LayoutView",
            "align_content": null,
            "align_items": null,
            "align_self": null,
            "border": null,
            "bottom": null,
            "display": null,
            "flex": null,
            "flex_flow": null,
            "grid_area": null,
            "grid_auto_columns": null,
            "grid_auto_flow": null,
            "grid_auto_rows": null,
            "grid_column": null,
            "grid_gap": null,
            "grid_row": null,
            "grid_template_areas": null,
            "grid_template_columns": null,
            "grid_template_rows": null,
            "height": null,
            "justify_content": null,
            "justify_items": null,
            "left": null,
            "margin": null,
            "max_height": null,
            "max_width": null,
            "min_height": null,
            "min_width": null,
            "object_fit": null,
            "object_position": null,
            "order": null,
            "overflow": null,
            "overflow_x": null,
            "overflow_y": null,
            "padding": null,
            "right": null,
            "top": null,
            "visibility": null,
            "width": null
          }
        },
        "9d987001c3ba4496b4b33c363195461b": {
          "model_module": "@jupyter-widgets/controls",
          "model_name": "ProgressStyleModel",
          "model_module_version": "1.5.0",
          "state": {
            "_model_module": "@jupyter-widgets/controls",
            "_model_module_version": "1.5.0",
            "_model_name": "ProgressStyleModel",
            "_view_count": null,
            "_view_module": "@jupyter-widgets/base",
            "_view_module_version": "1.2.0",
            "_view_name": "StyleView",
            "bar_color": null,
            "description_width": ""
          }
        },
        "c2b54f0df9a9471985028117654e1fa0": {
          "model_module": "@jupyter-widgets/base",
          "model_name": "LayoutModel",
          "model_module_version": "1.2.0",
          "state": {
            "_model_module": "@jupyter-widgets/base",
            "_model_module_version": "1.2.0",
            "_model_name": "LayoutModel",
            "_view_count": null,
            "_view_module": "@jupyter-widgets/base",
            "_view_module_version": "1.2.0",
            "_view_name": "LayoutView",
            "align_content": null,
            "align_items": null,
            "align_self": null,
            "border": null,
            "bottom": null,
            "display": null,
            "flex": null,
            "flex_flow": null,
            "grid_area": null,
            "grid_auto_columns": null,
            "grid_auto_flow": null,
            "grid_auto_rows": null,
            "grid_column": null,
            "grid_gap": null,
            "grid_row": null,
            "grid_template_areas": null,
            "grid_template_columns": null,
            "grid_template_rows": null,
            "height": null,
            "justify_content": null,
            "justify_items": null,
            "left": null,
            "margin": null,
            "max_height": null,
            "max_width": null,
            "min_height": null,
            "min_width": null,
            "object_fit": null,
            "object_position": null,
            "order": null,
            "overflow": null,
            "overflow_x": null,
            "overflow_y": null,
            "padding": null,
            "right": null,
            "top": null,
            "visibility": null,
            "width": null
          }
        },
        "a3816b65a7414326a23cae526c1d47ce": {
          "model_module": "@jupyter-widgets/controls",
          "model_name": "DescriptionStyleModel",
          "model_module_version": "1.5.0",
          "state": {
            "_model_module": "@jupyter-widgets/controls",
            "_model_module_version": "1.5.0",
            "_model_name": "DescriptionStyleModel",
            "_view_count": null,
            "_view_module": "@jupyter-widgets/base",
            "_view_module_version": "1.2.0",
            "_view_name": "StyleView",
            "description_width": ""
          }
        },
        "abf111339c004b7e894fdd8e86b8e485": {
          "model_module": "@jupyter-widgets/controls",
          "model_name": "HBoxModel",
          "model_module_version": "1.5.0",
          "state": {
            "_dom_classes": [],
            "_model_module": "@jupyter-widgets/controls",
            "_model_module_version": "1.5.0",
            "_model_name": "HBoxModel",
            "_view_count": null,
            "_view_module": "@jupyter-widgets/controls",
            "_view_module_version": "1.5.0",
            "_view_name": "HBoxView",
            "box_style": "",
            "children": [
              "IPY_MODEL_2252036f0bde4fd8a2e63935de5cff07",
              "IPY_MODEL_81cffec07cce4d9bbe9b0285a224d20b",
              "IPY_MODEL_d9d70fe322e849d598d7f4028002f7a0"
            ],
            "layout": "IPY_MODEL_63e99503907b4c199bd07de8fa228071"
          }
        },
        "2252036f0bde4fd8a2e63935de5cff07": {
          "model_module": "@jupyter-widgets/controls",
          "model_name": "HTMLModel",
          "model_module_version": "1.5.0",
          "state": {
            "_dom_classes": [],
            "_model_module": "@jupyter-widgets/controls",
            "_model_module_version": "1.5.0",
            "_model_name": "HTMLModel",
            "_view_count": null,
            "_view_module": "@jupyter-widgets/controls",
            "_view_module_version": "1.5.0",
            "_view_name": "HTMLView",
            "description": "",
            "description_tooltip": null,
            "layout": "IPY_MODEL_2a51031dfa54402180db5495e9351083",
            "placeholder": "​",
            "style": "IPY_MODEL_bcfc1ccfd14c4244aa2cf444b38b3b38",
            "value": "Downloading: 100%"
          }
        },
        "81cffec07cce4d9bbe9b0285a224d20b": {
          "model_module": "@jupyter-widgets/controls",
          "model_name": "FloatProgressModel",
          "model_module_version": "1.5.0",
          "state": {
            "_dom_classes": [],
            "_model_module": "@jupyter-widgets/controls",
            "_model_module_version": "1.5.0",
            "_model_name": "FloatProgressModel",
            "_view_count": null,
            "_view_module": "@jupyter-widgets/controls",
            "_view_module_version": "1.5.0",
            "_view_name": "ProgressView",
            "bar_style": "success",
            "description": "",
            "description_tooltip": null,
            "layout": "IPY_MODEL_4525a74188234430a0233b939855b9c4",
            "max": 440473133,
            "min": 0,
            "orientation": "horizontal",
            "style": "IPY_MODEL_017c57def893477a857c8a728e3c4055",
            "value": 440473133
          }
        },
        "d9d70fe322e849d598d7f4028002f7a0": {
          "model_module": "@jupyter-widgets/controls",
          "model_name": "HTMLModel",
          "model_module_version": "1.5.0",
          "state": {
            "_dom_classes": [],
            "_model_module": "@jupyter-widgets/controls",
            "_model_module_version": "1.5.0",
            "_model_name": "HTMLModel",
            "_view_count": null,
            "_view_module": "@jupyter-widgets/controls",
            "_view_module_version": "1.5.0",
            "_view_name": "HTMLView",
            "description": "",
            "description_tooltip": null,
            "layout": "IPY_MODEL_16334a28beff48c0aeff4bf50e08f9a0",
            "placeholder": "​",
            "style": "IPY_MODEL_c9b31584bcbd4315a0ea7dec0d9004eb",
            "value": " 420M/420M [00:13&lt;00:00, 36.3MB/s]"
          }
        },
        "63e99503907b4c199bd07de8fa228071": {
          "model_module": "@jupyter-widgets/base",
          "model_name": "LayoutModel",
          "model_module_version": "1.2.0",
          "state": {
            "_model_module": "@jupyter-widgets/base",
            "_model_module_version": "1.2.0",
            "_model_name": "LayoutModel",
            "_view_count": null,
            "_view_module": "@jupyter-widgets/base",
            "_view_module_version": "1.2.0",
            "_view_name": "LayoutView",
            "align_content": null,
            "align_items": null,
            "align_self": null,
            "border": null,
            "bottom": null,
            "display": null,
            "flex": null,
            "flex_flow": null,
            "grid_area": null,
            "grid_auto_columns": null,
            "grid_auto_flow": null,
            "grid_auto_rows": null,
            "grid_column": null,
            "grid_gap": null,
            "grid_row": null,
            "grid_template_areas": null,
            "grid_template_columns": null,
            "grid_template_rows": null,
            "height": null,
            "justify_content": null,
            "justify_items": null,
            "left": null,
            "margin": null,
            "max_height": null,
            "max_width": null,
            "min_height": null,
            "min_width": null,
            "object_fit": null,
            "object_position": null,
            "order": null,
            "overflow": null,
            "overflow_x": null,
            "overflow_y": null,
            "padding": null,
            "right": null,
            "top": null,
            "visibility": null,
            "width": null
          }
        },
        "2a51031dfa54402180db5495e9351083": {
          "model_module": "@jupyter-widgets/base",
          "model_name": "LayoutModel",
          "model_module_version": "1.2.0",
          "state": {
            "_model_module": "@jupyter-widgets/base",
            "_model_module_version": "1.2.0",
            "_model_name": "LayoutModel",
            "_view_count": null,
            "_view_module": "@jupyter-widgets/base",
            "_view_module_version": "1.2.0",
            "_view_name": "LayoutView",
            "align_content": null,
            "align_items": null,
            "align_self": null,
            "border": null,
            "bottom": null,
            "display": null,
            "flex": null,
            "flex_flow": null,
            "grid_area": null,
            "grid_auto_columns": null,
            "grid_auto_flow": null,
            "grid_auto_rows": null,
            "grid_column": null,
            "grid_gap": null,
            "grid_row": null,
            "grid_template_areas": null,
            "grid_template_columns": null,
            "grid_template_rows": null,
            "height": null,
            "justify_content": null,
            "justify_items": null,
            "left": null,
            "margin": null,
            "max_height": null,
            "max_width": null,
            "min_height": null,
            "min_width": null,
            "object_fit": null,
            "object_position": null,
            "order": null,
            "overflow": null,
            "overflow_x": null,
            "overflow_y": null,
            "padding": null,
            "right": null,
            "top": null,
            "visibility": null,
            "width": null
          }
        },
        "bcfc1ccfd14c4244aa2cf444b38b3b38": {
          "model_module": "@jupyter-widgets/controls",
          "model_name": "DescriptionStyleModel",
          "model_module_version": "1.5.0",
          "state": {
            "_model_module": "@jupyter-widgets/controls",
            "_model_module_version": "1.5.0",
            "_model_name": "DescriptionStyleModel",
            "_view_count": null,
            "_view_module": "@jupyter-widgets/base",
            "_view_module_version": "1.2.0",
            "_view_name": "StyleView",
            "description_width": ""
          }
        },
        "4525a74188234430a0233b939855b9c4": {
          "model_module": "@jupyter-widgets/base",
          "model_name": "LayoutModel",
          "model_module_version": "1.2.0",
          "state": {
            "_model_module": "@jupyter-widgets/base",
            "_model_module_version": "1.2.0",
            "_model_name": "LayoutModel",
            "_view_count": null,
            "_view_module": "@jupyter-widgets/base",
            "_view_module_version": "1.2.0",
            "_view_name": "LayoutView",
            "align_content": null,
            "align_items": null,
            "align_self": null,
            "border": null,
            "bottom": null,
            "display": null,
            "flex": null,
            "flex_flow": null,
            "grid_area": null,
            "grid_auto_columns": null,
            "grid_auto_flow": null,
            "grid_auto_rows": null,
            "grid_column": null,
            "grid_gap": null,
            "grid_row": null,
            "grid_template_areas": null,
            "grid_template_columns": null,
            "grid_template_rows": null,
            "height": null,
            "justify_content": null,
            "justify_items": null,
            "left": null,
            "margin": null,
            "max_height": null,
            "max_width": null,
            "min_height": null,
            "min_width": null,
            "object_fit": null,
            "object_position": null,
            "order": null,
            "overflow": null,
            "overflow_x": null,
            "overflow_y": null,
            "padding": null,
            "right": null,
            "top": null,
            "visibility": null,
            "width": null
          }
        },
        "017c57def893477a857c8a728e3c4055": {
          "model_module": "@jupyter-widgets/controls",
          "model_name": "ProgressStyleModel",
          "model_module_version": "1.5.0",
          "state": {
            "_model_module": "@jupyter-widgets/controls",
            "_model_module_version": "1.5.0",
            "_model_name": "ProgressStyleModel",
            "_view_count": null,
            "_view_module": "@jupyter-widgets/base",
            "_view_module_version": "1.2.0",
            "_view_name": "StyleView",
            "bar_color": null,
            "description_width": ""
          }
        },
        "16334a28beff48c0aeff4bf50e08f9a0": {
          "model_module": "@jupyter-widgets/base",
          "model_name": "LayoutModel",
          "model_module_version": "1.2.0",
          "state": {
            "_model_module": "@jupyter-widgets/base",
            "_model_module_version": "1.2.0",
            "_model_name": "LayoutModel",
            "_view_count": null,
            "_view_module": "@jupyter-widgets/base",
            "_view_module_version": "1.2.0",
            "_view_name": "LayoutView",
            "align_content": null,
            "align_items": null,
            "align_self": null,
            "border": null,
            "bottom": null,
            "display": null,
            "flex": null,
            "flex_flow": null,
            "grid_area": null,
            "grid_auto_columns": null,
            "grid_auto_flow": null,
            "grid_auto_rows": null,
            "grid_column": null,
            "grid_gap": null,
            "grid_row": null,
            "grid_template_areas": null,
            "grid_template_columns": null,
            "grid_template_rows": null,
            "height": null,
            "justify_content": null,
            "justify_items": null,
            "left": null,
            "margin": null,
            "max_height": null,
            "max_width": null,
            "min_height": null,
            "min_width": null,
            "object_fit": null,
            "object_position": null,
            "order": null,
            "overflow": null,
            "overflow_x": null,
            "overflow_y": null,
            "padding": null,
            "right": null,
            "top": null,
            "visibility": null,
            "width": null
          }
        },
        "c9b31584bcbd4315a0ea7dec0d9004eb": {
          "model_module": "@jupyter-widgets/controls",
          "model_name": "DescriptionStyleModel",
          "model_module_version": "1.5.0",
          "state": {
            "_model_module": "@jupyter-widgets/controls",
            "_model_module_version": "1.5.0",
            "_model_name": "DescriptionStyleModel",
            "_view_count": null,
            "_view_module": "@jupyter-widgets/base",
            "_view_module_version": "1.2.0",
            "_view_name": "StyleView",
            "description_width": ""
          }
        }
      }
    }
  },
  "cells": [
    {
      "cell_type": "markdown",
      "source": [
        "#### Installing necessary packages"
      ],
      "metadata": {
        "id": "DIC02zidNh_J"
      }
    },
    {
      "cell_type": "code",
      "source": [
        "%%capture\n",
        "!pip install datasets"
      ],
      "metadata": {
        "id": "b_3OWMvkTevA"
      },
      "execution_count": 1,
      "outputs": []
    },
    {
      "cell_type": "code",
      "source": [
        "%%capture\n",
        "!pip install transformers"
      ],
      "metadata": {
        "id": "1nk7aVUqTpYd"
      },
      "execution_count": 2,
      "outputs": []
    },
    {
      "cell_type": "code",
      "source": [
        "%%capture\n",
        "!pip install colorama"
      ],
      "metadata": {
        "id": "mQAQcPIST7fP"
      },
      "execution_count": 4,
      "outputs": []
    },
    {
      "cell_type": "markdown",
      "source": [
        "#### Importing Libraries"
      ],
      "metadata": {
        "id": "0I6mJ4WrNaIH"
      }
    },
    {
      "cell_type": "code",
      "source": [
        "import sys\n",
        "import os\n",
        "import torch\n",
        "from datasets import load_dataset\n",
        "import numpy as np\n",
        "import pandas as pd\n",
        "from torch.utils.data import RandomSampler, DataLoader, SequentialSampler, TensorDataset\n",
        "from tqdm import tqdm\n",
        "from transformers import BertTokenizer, BertForSequenceClassification\n",
        "from colorama import Fore"
      ],
      "metadata": {
        "id": "K5qKgIFFfyM1"
      },
      "execution_count": 5,
      "outputs": []
    },
    {
      "cell_type": "markdown",
      "source": [
        "##### Setting Model Specifications"
      ],
      "metadata": {
        "id": "dQxjab1TNpFz"
      }
    },
    {
      "cell_type": "code",
      "source": [
        "gpu = torch.device('cuda')\n",
        "batch_size = 16\n",
        "max_seq_length = 128\n",
        "tokenizer = BertTokenizer.from_pretrained(\"bert-base-uncased\")"
      ],
      "metadata": {
        "id": "xjK3rWVjf3V7",
        "colab": {
          "base_uri": "https://localhost:8080/",
          "height": 113,
          "referenced_widgets": [
            "9a559b6efe43495685e8bce35c940f05",
            "71141eb740d14cd2a350e7d024c11767",
            "882af92bed25415b9a74f86e2e72b4df",
            "3294822a6a08405989bd1fd3f2e20ae5",
            "6843086aa233410c97924ff3c03475d4",
            "1f12938540f54ef89c7d37219c40b45d",
            "19e44c54873a408cb3cf8535c8c6ed5c",
            "f4c4c24e220445259e9398dd1c3c3e17",
            "46e8ff84b78e4493b5a30593b72385dc",
            "55977759bf2042a48beb233257553086",
            "a5333a88263e4ca69938789dabb76fd1",
            "38136d64b4e8423fb2ee7a17c9628935",
            "6621745263c84ca8ba4c898d439ac3a1",
            "3d0b6515ccca48978664a67c77f58ad6",
            "73f48e7f30094e44b4e2b28c9ed778cb",
            "691dc3d2488f4ebaa17d4d4505041749",
            "6c735cc53a134d7d88034720d7fe4831",
            "20f31d025ddf443297070b2644ab8876",
            "cc36703bec914b2e97f60c1d1845482a",
            "5ed1812dc5fe4e4d85ad44463d27b286",
            "9a46650537ab4dbf98411ee368c23f51",
            "3ded557948b54fafa417cbf6bad1e797",
            "bcfaf19f1e174f07a044ba3162a7eba0",
            "e17384b2742b468f843641fffe4216dc",
            "ae4675ed7113447cbab7bbb84697ad77",
            "f9fedda17699484e97b4e90c460b42fc",
            "fb6eedf3f1954d36a408867bd6756423",
            "e971f2fc3227448d985ace44f94ab97b",
            "c6579048e16d471983db4f0ef4034945",
            "43c9af3f5e214f9ba85f70786e90f030",
            "9d987001c3ba4496b4b33c363195461b",
            "c2b54f0df9a9471985028117654e1fa0",
            "a3816b65a7414326a23cae526c1d47ce"
          ]
        },
        "outputId": "fcded0c8-7dbe-40a2-e8a2-60ea8ee4fe64"
      },
      "execution_count": 6,
      "outputs": [
        {
          "output_type": "display_data",
          "data": {
            "text/plain": [
              "Downloading:   0%|          | 0.00/226k [00:00<?, ?B/s]"
            ],
            "application/vnd.jupyter.widget-view+json": {
              "version_major": 2,
              "version_minor": 0,
              "model_id": "9a559b6efe43495685e8bce35c940f05"
            }
          },
          "metadata": {}
        },
        {
          "output_type": "display_data",
          "data": {
            "text/plain": [
              "Downloading:   0%|          | 0.00/28.0 [00:00<?, ?B/s]"
            ],
            "application/vnd.jupyter.widget-view+json": {
              "version_major": 2,
              "version_minor": 0,
              "model_id": "38136d64b4e8423fb2ee7a17c9628935"
            }
          },
          "metadata": {}
        },
        {
          "output_type": "display_data",
          "data": {
            "text/plain": [
              "Downloading:   0%|          | 0.00/570 [00:00<?, ?B/s]"
            ],
            "application/vnd.jupyter.widget-view+json": {
              "version_major": 2,
              "version_minor": 0,
              "model_id": "bcfaf19f1e174f07a044ba3162a7eba0"
            }
          },
          "metadata": {}
        }
      ]
    },
    {
      "cell_type": "markdown",
      "source": [
        "##### Tokenization and Encoding of Inputs as required by BERT"
      ],
      "metadata": {
        "id": "KRvEwGeWNwfL"
      }
    },
    {
      "cell_type": "code",
      "source": [
        "def truncate_seq_pair(tokens_a, tokens_b, max_length):\n",
        "    while True:\n",
        "        total_length = len(tokens_a) + len(tokens_b)\n",
        "        if total_length <= max_length:\n",
        "            break\n",
        "        if len(tokens_a) > len(tokens_b):\n",
        "            tokens_a.pop()\n",
        "        else:\n",
        "            tokens_b.pop()\n",
        "\n",
        "\n",
        "def convert_examples_to_features(data, desc):\n",
        "    labels = []\n",
        "    input_word_ids = []\n",
        "    input_type_ids = []\n",
        "    input_masks = []\n",
        "    examples=data.to_dict(orient='records')\n",
        "    p_bar = tqdm(total=len(examples), desc=desc,\n",
        "                 position=0, leave=True,\n",
        "                 file=sys.stdout, bar_format=\"{l_bar}%s{bar}%s{r_bar}\" % (Fore.BLUE, Fore.RESET))\n",
        "\n",
        "    for index in range(len(examples)):\n",
        "        #print(index)\n",
        "        if \"label\" in examples[index]:\n",
        "            labels.append(examples[index][\"label\"])\n",
        "\n",
        "        tokens_a = tokenizer.tokenize(examples[index][\"sentence1\"])\n",
        "        tokens_b = tokenizer.tokenize(examples[index][\"sentence2\"])\n",
        "        truncate_seq_pair(tokens_a, tokens_b, max_seq_length - 3)\n",
        "        tokens = []\n",
        "        segment_ids = []\n",
        "        tokens.append(\"[CLS]\")\n",
        "        segment_ids.append(0)\n",
        "        for token in tokens_a:\n",
        "            tokens.append(token)\n",
        "            segment_ids.append(0)\n",
        "        tokens.append(\"[SEP]\")\n",
        "        segment_ids.append(0)\n",
        "        for token in tokens_b:\n",
        "            tokens.append(token)\n",
        "            segment_ids.append(1)\n",
        "        tokens.append(\"[SEP]\")\n",
        "        segment_ids.append(1)\n",
        "        input_ids = tokenizer.convert_tokens_to_ids(tokens)\n",
        "        input_mask = [1] * len(input_ids)\n",
        "        while len(input_ids) < max_seq_length:\n",
        "            input_ids.append(0)\n",
        "            input_mask.append(0)\n",
        "            segment_ids.append(0)\n",
        "        input_word_ids.append(input_ids)\n",
        "        input_type_ids.append(segment_ids)\n",
        "        input_masks.append(input_mask)\n",
        "        p_bar.update(1)\n",
        "    p_bar.close()\n",
        "    return [torch.tensor(input_word_ids, dtype=torch.int64),\n",
        "            torch.tensor(input_masks, dtype=torch.float),\n",
        "            torch.tensor(input_type_ids, dtype=torch.int64),\n",
        "            torch.tensor(labels, dtype=torch.int64)]\n"
      ],
      "metadata": {
        "id": "1iGnG_ljho21"
      },
      "execution_count": 7,
      "outputs": []
    },
    {
      "cell_type": "markdown",
      "source": [
        "##### Model Training Function"
      ],
      "metadata": {
        "id": "K9ywOs3QN6DF"
      }
    },
    {
      "cell_type": "code",
      "source": [
        "def train(epochs,model,train_data_loader,validation_data_loader,train_length,validation_length):\n",
        "  for epoch in range(1, epochs + 1):\n",
        "    # ============================================ TRAINING ============================================================\n",
        "    print(\"Training epoch \", str(epoch))\n",
        "    training_pbar = tqdm(total=train_length,\n",
        "                         position=0, leave=True,\n",
        "                         file=sys.stdout, bar_format=\"{l_bar}%s{bar}%s{r_bar}\" % (Fore.GREEN, Fore.RESET))\n",
        "    model.train()\n",
        "    tr_loss = 0\n",
        "    nb_tr_steps = 0\n",
        "    for step, batch in enumerate(train_data_loader):\n",
        "        batch = tuple(t.to(gpu) for t in batch)\n",
        "        input_word_ids, input_mask, input_type_ids, labels = batch\n",
        "        optimizer.zero_grad()\n",
        "        loss, _ = model(input_ids=input_word_ids,\n",
        "                        attention_mask=input_mask,\n",
        "                        token_type_ids=input_type_ids,\n",
        "                        labels=labels, return_dict=False)\n",
        "        loss.backward()\n",
        "        optimizer.step()\n",
        "        tr_loss += loss.item()\n",
        "        nb_tr_steps += 1\n",
        "        training_pbar.update(input_word_ids.size(0))\n",
        "    training_pbar.close()\n",
        "    print(f\"\\nTraining loss={tr_loss / nb_tr_steps:.4f}\")\n",
        "    torch.save(model.state_dict(), \"./weights_\" + str(epoch) + \".pth\")\n",
        "    \n",
        "    # ============================================ VALIDATION ==========================================================\n",
        "    validation_pbar = tqdm(total=validation_length,\n",
        "                           position=0, leave=True,\n",
        "                           file=sys.stdout, bar_format=\"{l_bar}%s{bar}%s{r_bar}\" % (Fore.BLUE, Fore.RESET))\n",
        "    model.eval()\n",
        "    eval_accuracy = 0\n",
        "    nb_eval_steps = 0\n",
        "    for batch in validation_data_loader:\n",
        "        batch = tuple(t.to(gpu) for t in batch)\n",
        "        input_word_ids, input_mask, input_type_ids, labels = batch\n",
        "        with torch.no_grad():\n",
        "            logits = model(input_ids=input_word_ids,\n",
        "                           attention_mask=input_mask,\n",
        "                           token_type_ids=input_type_ids, return_dict=False)\n",
        "\n",
        "        logits = logits[0].detach().cpu().numpy()\n",
        "        label_ids = labels.cpu().numpy()\n",
        "        pred_flat = np.argmax(logits, axis=1).flatten()\n",
        "        labels_flat = label_ids.flatten()\n",
        "        eval_accuracy += np.sum(pred_flat == labels_flat) / len(labels_flat)\n",
        "        nb_eval_steps += 1\n",
        "        validation_pbar.update(input_word_ids.size(0))\n",
        "    validation_pbar.close()\n",
        "    print(\"Validation Accuracy: {}\".format(eval_accuracy / nb_eval_steps))\n",
        "  return model"
      ],
      "metadata": {
        "id": "wbbtERGT80Xd"
      },
      "execution_count": 8,
      "outputs": []
    },
    {
      "cell_type": "markdown",
      "source": [
        "#####Testing Function"
      ],
      "metadata": {
        "id": "7oYyy0EDOCZp"
      }
    },
    {
      "cell_type": "code",
      "source": [
        "def test_accuracy(model,test_data_loader):\n",
        "  model.eval()\n",
        "  test_accuracy = 0\n",
        "  nb_test_steps = 0\n",
        "  for batch in test_data_loader:\n",
        "      batch = tuple(t.to(gpu) for t in batch)\n",
        "      input_word_ids, input_mask, input_type_ids, labels = batch\n",
        "      with torch.no_grad():\n",
        "          logits = model(input_ids=input_word_ids,\n",
        "                          attention_mask=input_mask,\n",
        "                          token_type_ids=input_type_ids, return_dict=False)\n",
        "\n",
        "      logits = logits[0].detach().cpu().numpy()\n",
        "      label_ids = labels.cpu().numpy()\n",
        "      pred_flat = np.argmax(logits, axis=1).flatten()\n",
        "      labels_flat = label_ids.flatten()\n",
        "      test_accuracy += np.sum(pred_flat == labels_flat) / len(labels_flat)\n",
        "      nb_test_steps += 1\n",
        "      #test_pbar.update(input_word_ids.size(0))\n",
        "  #test_pbar.close()\n",
        "  print(\"Test Accuracy: {}\".format(test_accuracy / nb_test_steps))"
      ],
      "metadata": {
        "id": "dgXy6HZ_o6cf"
      },
      "execution_count": 9,
      "outputs": []
    },
    {
      "cell_type": "markdown",
      "source": [
        "#####Initializing the Model"
      ],
      "metadata": {
        "id": "Kh3VCbl2OOco"
      }
    },
    {
      "cell_type": "code",
      "source": [
        "# ================================================ INITIALIZING MODEL ======================================================\n",
        "model = BertForSequenceClassification.from_pretrained(\"bert-base-uncased\", num_labels=2).to('cuda')\n",
        "param_optimizer = list(model.named_parameters())\n",
        "no_decay = ['bias', 'gamma', 'beta']\n",
        "optimizer_grouped_parameters = [\n",
        "    {'params': [p for n, p in param_optimizer if not any(nd in n for nd in no_decay)],\n",
        "     'weight_decay_rate': 0.01},\n",
        "    {'params': [p for n, p in param_optimizer if any(nd in n for nd in no_decay)],\n",
        "     'weight_decay_rate': 0.0}\n",
        "]\n",
        "\n",
        "optimizer = torch.optim.Adam(lr=1e-5, betas=(0.9, 0.98), eps=1e-9, params=optimizer_grouped_parameters)\n",
        "# model.load_state_dict(torch.load(\"./weights_4.pth\"))"
      ],
      "metadata": {
        "id": "4xYQSrm7F-yg",
        "colab": {
          "base_uri": "https://localhost:8080/",
          "height": 156,
          "referenced_widgets": [
            "abf111339c004b7e894fdd8e86b8e485",
            "2252036f0bde4fd8a2e63935de5cff07",
            "81cffec07cce4d9bbe9b0285a224d20b",
            "d9d70fe322e849d598d7f4028002f7a0",
            "63e99503907b4c199bd07de8fa228071",
            "2a51031dfa54402180db5495e9351083",
            "bcfc1ccfd14c4244aa2cf444b38b3b38",
            "4525a74188234430a0233b939855b9c4",
            "017c57def893477a857c8a728e3c4055",
            "16334a28beff48c0aeff4bf50e08f9a0",
            "c9b31584bcbd4315a0ea7dec0d9004eb"
          ]
        },
        "outputId": "7417b528-5f11-4404-f2cb-3a999a6b8cdf"
      },
      "execution_count": 10,
      "outputs": [
        {
          "output_type": "display_data",
          "data": {
            "text/plain": [
              "Downloading:   0%|          | 0.00/420M [00:00<?, ?B/s]"
            ],
            "application/vnd.jupyter.widget-view+json": {
              "version_major": 2,
              "version_minor": 0,
              "model_id": "abf111339c004b7e894fdd8e86b8e485"
            }
          },
          "metadata": {}
        },
        {
          "output_type": "stream",
          "name": "stderr",
          "text": [
            "Some weights of the model checkpoint at bert-base-uncased were not used when initializing BertForSequenceClassification: ['cls.predictions.bias', 'cls.predictions.transform.dense.weight', 'cls.predictions.transform.dense.bias', 'cls.seq_relationship.weight', 'cls.seq_relationship.bias', 'cls.predictions.transform.LayerNorm.weight', 'cls.predictions.decoder.weight', 'cls.predictions.transform.LayerNorm.bias']\n",
            "- This IS expected if you are initializing BertForSequenceClassification from the checkpoint of a model trained on another task or with another architecture (e.g. initializing a BertForSequenceClassification model from a BertForPreTraining model).\n",
            "- This IS NOT expected if you are initializing BertForSequenceClassification from the checkpoint of a model that you expect to be exactly identical (initializing a BertForSequenceClassification model from a BertForSequenceClassification model).\n",
            "Some weights of BertForSequenceClassification were not initialized from the model checkpoint at bert-base-uncased and are newly initialized: ['classifier.bias', 'classifier.weight']\n",
            "You should probably TRAIN this model on a down-stream task to be able to use it for predictions and inference.\n"
          ]
        }
      ]
    },
    {
      "cell_type": "markdown",
      "source": [
        "##### Mounting G-Drive for Storing Trained Models"
      ],
      "metadata": {
        "id": "8I87SbHxQ8kz"
      }
    },
    {
      "cell_type": "code",
      "source": [
        "from google.colab import  drive\n",
        "drive.mount('/drive')"
      ],
      "metadata": {
        "id": "AukQXZCMRECT",
        "colab": {
          "base_uri": "https://localhost:8080/"
        },
        "outputId": "8ae7e0a5-ecf5-4150-c96e-ac7b3be0aab3"
      },
      "execution_count": 11,
      "outputs": [
        {
          "output_type": "stream",
          "name": "stdout",
          "text": [
            "Mounted at /drive\n"
          ]
        }
      ]
    },
    {
      "cell_type": "markdown",
      "source": [
        "Training of Model starts :\n",
        "\n",
        "\n",
        "*   First we will prepare a base BERT model for paraphrase detection by training it on the MRPC Dataset.\n",
        "*   Next we will evaluate the performance of base model on the SQUAD dataset we generated and subsequently fine-tune the base model on it.\n",
        "*   Finally we will evaluate the performance of the fine-tuned model on PAWS dataset. It contains lexically highly overlapped paraphrases. We have also generated such examples for the SQUAD Dataset. As a last step we will fine-tune the model on the combined PAWS dataset.\n",
        "\n"
      ],
      "metadata": {
        "id": "0Oogv4VbOaaa"
      }
    },
    {
      "cell_type": "markdown",
      "source": [
        "#Preparing the Base Model and training it on MRPC Dataset"
      ],
      "metadata": {
        "id": "1zyZ5PuXPsT6"
      }
    },
    {
      "cell_type": "code",
      "source": [
        "#MRPC Dataset\n",
        "train_data=pd.read_csv(\"train_mrpc.csv\")\n",
        "test_data=pd.read_csv(\"test_mrpc.csv\")\n",
        "eval_data=pd.read_csv(\"val_mrpc.csv\")"
      ],
      "metadata": {
        "id": "KFUe2FT7UpPd"
      },
      "execution_count": 12,
      "outputs": []
    },
    {
      "cell_type": "markdown",
      "source": [
        "##### Converting to Pytorch DataLoader"
      ],
      "metadata": {
        "id": "NUEnwZoUQMjd"
      }
    },
    {
      "cell_type": "code",
      "source": [
        "train_data = TensorDataset(*convert_examples_to_features(train_data, \"Creating training samples\"))\n",
        "train_sampler = SequentialSampler(train_data)\n",
        "train_data_loader = DataLoader(train_data, sampler=train_sampler, batch_size=batch_size)\n",
        "\n",
        "eval_data = TensorDataset(*convert_examples_to_features(eval_data, \"Creating evaluation samples\"))\n",
        "eval_sampler = SequentialSampler(eval_data)\n",
        "validation_data_loader = DataLoader(eval_data, sampler=eval_sampler, batch_size=batch_size)\n",
        "\n",
        "test_data = TensorDataset(*convert_examples_to_features(test_data, \"Creating test samples\"))\n",
        "test_sampler = SequentialSampler(test_data)\n",
        "test_data_loader = DataLoader(test_data, sampler=test_sampler, batch_size=batch_size)\n"
      ],
      "metadata": {
        "colab": {
          "base_uri": "https://localhost:8080/"
        },
        "id": "z2DqamrYUHNd",
        "outputId": "e7b4eee8-e699-482a-a1dd-c68c9c069dae"
      },
      "execution_count": 13,
      "outputs": [
        {
          "output_type": "stream",
          "name": "stdout",
          "text": [
            "Creating training samples: 100%|\u001b[34m██████████\u001b[39m| 3668/3668 [00:05<00:00, 722.42it/s]\n",
            "Creating evaluation samples: 100%|\u001b[34m██████████\u001b[39m| 408/408 [00:00<00:00, 701.16it/s]\n",
            "Creating test samples: 100%|\u001b[34m██████████\u001b[39m| 1725/1725 [00:03<00:00, 470.14it/s]\n"
          ]
        }
      ]
    },
    {
      "cell_type": "markdown",
      "source": [
        "#####Base Model fine-tuning on MRPC Dataset"
      ],
      "metadata": {
        "id": "yEZQZM3xQcnM"
      }
    },
    {
      "cell_type": "code",
      "source": [
        "epochs=4\n",
        "model=train(epochs,model,train_data_loader,validation_data_loader,len(train_data),len(eval_data))"
      ],
      "metadata": {
        "colab": {
          "base_uri": "https://localhost:8080/"
        },
        "id": "iirSQFBb-jUF",
        "outputId": "5d3dd891-f7d5-4522-fb66-f098ec1f3c21"
      },
      "execution_count": 14,
      "outputs": [
        {
          "output_type": "stream",
          "name": "stdout",
          "text": [
            "Training epoch  1\n",
            "100%|\u001b[32m██████████\u001b[39m| 3668/3668 [02:31<00:00, 24.18it/s]\n",
            "\n",
            "Training loss=0.5670\n",
            "100%|\u001b[34m██████████\u001b[39m| 408/408 [00:05<00:00, 72.85it/s]\n",
            "Validation Accuracy: 0.8100961538461539\n",
            "Training epoch  2\n",
            "100%|\u001b[32m██████████\u001b[39m| 3668/3668 [02:32<00:00, 24.01it/s]\n",
            "\n",
            "Training loss=0.4040\n",
            "100%|\u001b[34m██████████\u001b[39m| 408/408 [00:05<00:00, 72.61it/s]\n",
            "Validation Accuracy: 0.8293269230769231\n",
            "Training epoch  3\n",
            "100%|\u001b[32m██████████\u001b[39m| 3668/3668 [02:32<00:00, 24.02it/s]\n",
            "\n",
            "Training loss=0.2484\n",
            "100%|\u001b[34m██████████\u001b[39m| 408/408 [00:05<00:00, 72.59it/s]\n",
            "Validation Accuracy: 0.8653846153846154\n",
            "Training epoch  4\n",
            "100%|\u001b[32m██████████\u001b[39m| 3668/3668 [02:32<00:00, 24.01it/s]\n",
            "\n",
            "Training loss=0.1357\n",
            "100%|\u001b[34m██████████\u001b[39m| 408/408 [00:05<00:00, 72.33it/s]\n",
            "Validation Accuracy: 0.8341346153846154\n"
          ]
        }
      ]
    },
    {
      "cell_type": "markdown",
      "source": [
        "#####Base Model Performance result"
      ],
      "metadata": {
        "id": "b19uu0laQoMA"
      }
    },
    {
      "cell_type": "code",
      "source": [
        "test_accuracy(model,test_data_loader)"
      ],
      "metadata": {
        "colab": {
          "base_uri": "https://localhost:8080/"
        },
        "id": "qwyguK0yqMXB",
        "outputId": "e0e70478-b4d8-4235-91b4-ed977658856e"
      },
      "execution_count": 15,
      "outputs": [
        {
          "output_type": "stream",
          "name": "stdout",
          "text": [
            "Test Accuracy: 0.8226495726495726\n"
          ]
        }
      ]
    },
    {
      "cell_type": "markdown",
      "source": [
        "#####Saving the Base Model"
      ],
      "metadata": {
        "id": "ZYyZaK9pRYtk"
      }
    },
    {
      "cell_type": "code",
      "source": [
        "directory = \"/drive/My Drive/Dissertation/Bert_MRPC\"\n",
        "tokenizer_directory = \"/drive/My Drive/Dissertation/Bert_MRPC/tokenizer\"\n",
        "if not os.path.exists(directory):\n",
        "    os.makedirs(directory)\n",
        "if not os.path.exists(tokenizer_directory):\n",
        "    os.makedirs(tokenizer_directory)\n",
        "\n",
        "# save vocabulary of the tokenizer\n",
        "tokenizer.save_pretrained(tokenizer_directory)\n",
        "# save the model weights and its configuration file\n",
        "model.save_pretrained(directory)"
      ],
      "metadata": {
        "id": "0wPSfQMjRg1v"
      },
      "execution_count": 16,
      "outputs": []
    },
    {
      "cell_type": "markdown",
      "source": [
        "#Fine-Tuning the Base Model on Augmented SQuAD Datset"
      ],
      "metadata": {
        "id": "liyfMxpSR41D"
      }
    },
    {
      "cell_type": "markdown",
      "source": [
        "#####Loading the model from G-Drive"
      ],
      "metadata": {
        "id": "WG3V1sZrSKgC"
      }
    },
    {
      "cell_type": "code",
      "source": [
        "tokenizer = BertTokenizer.from_pretrained(tokenizer_directory)\n",
        "model = BertForSequenceClassification.from_pretrained(directory, num_labels=2).to('cuda')"
      ],
      "metadata": {
        "id": "5Lq0DGPBSPhd"
      },
      "execution_count": 17,
      "outputs": []
    },
    {
      "cell_type": "markdown",
      "source": [
        "#####Loading the Augmented SQuAD Data"
      ],
      "metadata": {
        "id": "xNp7uxqKSfRE"
      }
    },
    {
      "cell_type": "code",
      "source": [
        "df=pd.read_csv(\"SQuAD_Augmented.csv\")"
      ],
      "metadata": {
        "id": "bOuJOYX4BBQ5"
      },
      "execution_count": 18,
      "outputs": []
    },
    {
      "cell_type": "code",
      "source": [
        "#Splitting the Augmented SQuAD Data\n",
        "train_data, eval_data, test_data = np.split(df.sample(frac=1, random_state=42), [int(.7*len(df)), int(.8*len(df))])\n"
      ],
      "metadata": {
        "id": "_8QIX7M0Ayi3"
      },
      "execution_count": 19,
      "outputs": []
    },
    {
      "cell_type": "code",
      "source": [
        "#Renaming some columns\n",
        "train_data.rename(columns={'text':'sentence1','Paraphrase':'sentence2'},inplace=True)\n",
        "eval_data.rename(columns={'text':'sentence1','Paraphrase':'sentence2'},inplace=True)\n",
        "test_data.rename(columns={'text':'sentence1','Paraphrase':'sentence2'},inplace=True)"
      ],
      "metadata": {
        "id": "y2yKEABaBaAB"
      },
      "execution_count": 20,
      "outputs": []
    },
    {
      "cell_type": "markdown",
      "source": [
        "#####Converting to Pytorch DataLoaders"
      ],
      "metadata": {
        "id": "en-2qvhiS9ds"
      }
    },
    {
      "cell_type": "code",
      "source": [
        "train_data = TensorDataset(*convert_examples_to_features(train_data, \"Creating training samples\"))\n",
        "train_sampler = SequentialSampler(train_data)\n",
        "train_data_loader = DataLoader(train_data, sampler=train_sampler, batch_size=batch_size)\n",
        "\n",
        "eval_data = TensorDataset(*convert_examples_to_features(eval_data, \"Creating evaluation samples\"))\n",
        "eval_sampler = SequentialSampler(eval_data)\n",
        "validation_data_loader = DataLoader(eval_data, sampler=eval_sampler, batch_size=batch_size)\n",
        "\n",
        "test_data = TensorDataset(*convert_examples_to_features(test_data, \"Creating test samples\"))\n",
        "test_sampler = SequentialSampler(test_data)\n",
        "test_data_loader = DataLoader(test_data, sampler=test_sampler, batch_size=batch_size)"
      ],
      "metadata": {
        "colab": {
          "base_uri": "https://localhost:8080/"
        },
        "id": "DI2AI5UQBOvV",
        "outputId": "3e0375b4-8a90-4632-f3db-dd845aa0cb30"
      },
      "execution_count": 21,
      "outputs": [
        {
          "output_type": "stream",
          "name": "stdout",
          "text": [
            "Creating training samples: 100%|\u001b[34m██████████\u001b[39m| 5329/5329 [00:05<00:00, 991.29it/s] \n",
            "Creating evaluation samples: 100%|\u001b[34m██████████\u001b[39m| 761/761 [00:00<00:00, 990.81it/s] \n",
            "Creating test samples: 100%|\u001b[34m██████████\u001b[39m| 1523/1523 [00:01<00:00, 1008.12it/s]\n"
          ]
        }
      ]
    },
    {
      "cell_type": "markdown",
      "source": [
        "#####Evaluating the base model's performance on the SQuAD Dataset before fine-tuning"
      ],
      "metadata": {
        "id": "5w3i2wmeTGP2"
      }
    },
    {
      "cell_type": "code",
      "source": [
        "print(\"Accuracy of the Base Model on SQuAD before fine-tuning :\")\n",
        "test_accuracy(model,test_data_loader)"
      ],
      "metadata": {
        "id": "inRK-0nFTPSL",
        "colab": {
          "base_uri": "https://localhost:8080/"
        },
        "outputId": "9e76a81f-2f9b-4482-ee43-8ae9d7b927f0"
      },
      "execution_count": 22,
      "outputs": [
        {
          "output_type": "stream",
          "name": "stdout",
          "text": [
            "Accuracy of the Base Model on SQuAD before fine-tuning :\n",
            "Test Accuracy: 0.8539496527777778\n"
          ]
        }
      ]
    },
    {
      "cell_type": "markdown",
      "source": [
        "#####Fine Tuning on the Augmented SQuAD Dataset"
      ],
      "metadata": {
        "id": "ET5K2PuITaKn"
      }
    },
    {
      "cell_type": "code",
      "source": [
        "epochs=4\n",
        "model=train(epochs,model,train_data_loader,validation_data_loader,len(train_data),len(eval_data))"
      ],
      "metadata": {
        "colab": {
          "base_uri": "https://localhost:8080/"
        },
        "id": "-Ggng9GJB5uA",
        "outputId": "080df891-8ffe-432d-9e08-737fd201c4bd"
      },
      "execution_count": 23,
      "outputs": [
        {
          "output_type": "stream",
          "name": "stdout",
          "text": [
            "Training epoch  1\n",
            "100%|\u001b[32m██████████\u001b[39m| 5329/5329 [03:41<00:00, 24.06it/s]\n",
            "\n",
            "Training loss=0.4342\n",
            "100%|\u001b[34m██████████\u001b[39m| 761/761 [00:10<00:00, 72.16it/s]\n",
            "Validation Accuracy: 0.8664641203703703\n",
            "Training epoch  2\n",
            "100%|\u001b[32m██████████\u001b[39m| 5329/5329 [03:41<00:00, 24.07it/s]\n",
            "\n",
            "Training loss=0.4402\n",
            "100%|\u001b[34m██████████\u001b[39m| 761/761 [00:10<00:00, 72.15it/s]\n",
            "Validation Accuracy: 0.8664641203703703\n",
            "Training epoch  3\n",
            "100%|\u001b[32m██████████\u001b[39m| 5329/5329 [03:41<00:00, 24.08it/s]\n",
            "\n",
            "Training loss=0.4378\n",
            "100%|\u001b[34m██████████\u001b[39m| 761/761 [00:10<00:00, 72.20it/s]\n",
            "Validation Accuracy: 0.8664641203703703\n",
            "Training epoch  4\n",
            "100%|\u001b[32m██████████\u001b[39m| 5329/5329 [03:41<00:00, 24.08it/s]\n",
            "\n",
            "Training loss=0.4328\n",
            "100%|\u001b[34m██████████\u001b[39m| 761/761 [00:10<00:00, 72.32it/s]\n",
            "Validation Accuracy: 0.8664641203703703\n"
          ]
        }
      ]
    },
    {
      "cell_type": "markdown",
      "source": [
        "#####Evaluating performance of Fine-Tuned Model on SQuAD"
      ],
      "metadata": {
        "id": "C_JJMgBcUTX2"
      }
    },
    {
      "cell_type": "code",
      "source": [
        "print(\"Test Accuracy after Fine-Tuning :\")\n",
        "test_accuracy(model,test_data_loader)"
      ],
      "metadata": {
        "colab": {
          "base_uri": "https://localhost:8080/"
        },
        "id": "4hHnJ2mvCeve",
        "outputId": "dea7bfd6-6d0a-41bf-c7af-482e6ab17004"
      },
      "execution_count": 24,
      "outputs": [
        {
          "output_type": "stream",
          "name": "stdout",
          "text": [
            "Test Accuracy after Fine-Tuning :\n",
            "Test Accuracy: 0.8539496527777778\n"
          ]
        }
      ]
    },
    {
      "cell_type": "markdown",
      "source": [
        "#####Saving the Model fine-tuned on SQuAD in G-Drive"
      ],
      "metadata": {
        "id": "Ra8Wf7s5T-qi"
      }
    },
    {
      "cell_type": "code",
      "source": [
        "directory = \"/drive/My Drive/Dissertation/Bert_SQuAD\"\n",
        "tokenizer_directory = \"/drive/My Drive/Dissertation/Bert_SQuAD/tokenizer\"\n",
        "if not os.path.exists(directory):\n",
        "    os.makedirs(directory)\n",
        "if not os.path.exists(tokenizer_directory):\n",
        "    os.makedirs(tokenizer_directory)\n",
        "\n",
        "# save vocabulary of the tokenizer\n",
        "tokenizer.save_pretrained(tokenizer_directory)\n",
        "# save the model weights and its configuration file\n",
        "model.save_pretrained(directory)"
      ],
      "metadata": {
        "id": "YXNeqc-TUICj"
      },
      "execution_count": 31,
      "outputs": []
    },
    {
      "cell_type": "markdown",
      "source": [
        "#Lastly Fine-Tuning the model obtained so far on Augmented PAWS Dataset"
      ],
      "metadata": {
        "id": "_OXNMKVAUgdE"
      }
    },
    {
      "cell_type": "markdown",
      "source": [
        "#####Loading the fine-tuned model from G-Drive"
      ],
      "metadata": {
        "id": "DAgzWz7cUuT8"
      }
    },
    {
      "cell_type": "code",
      "source": [
        "tokenizer = BertTokenizer.from_pretrained(tokenizer_directory)\n",
        "model = BertForSequenceClassification.from_pretrained(directory, num_labels=2).to('cuda')"
      ],
      "metadata": {
        "id": "llU314P1U8zs"
      },
      "execution_count": 32,
      "outputs": []
    },
    {
      "cell_type": "code",
      "source": [
        "#Loading PAWS Dataset : A Daatset for Paraphrase Indentification\n",
        "from datasets import load_dataset\n",
        "train_data = load_dataset('paws', 'labeled_final', split='train')\n",
        "eval_data = load_dataset('paws', 'labeled_final', split='validation')\n",
        "test_data = load_dataset('paws', 'labeled_final', split='test')"
      ],
      "metadata": {
        "colab": {
          "base_uri": "https://localhost:8080/"
        },
        "id": "SBUSGSAMC3Ip",
        "outputId": "a2e42f44-cf35-4258-97c8-be18961693a5"
      },
      "execution_count": 33,
      "outputs": [
        {
          "output_type": "stream",
          "name": "stderr",
          "text": [
            "Reusing dataset paws (/root/.cache/huggingface/datasets/paws/labeled_final/1.1.0/8d567c6472623f42bd2cc635cad06932d0f0cd2f897db56013c1180f4317d338)\n",
            "Reusing dataset paws (/root/.cache/huggingface/datasets/paws/labeled_final/1.1.0/8d567c6472623f42bd2cc635cad06932d0f0cd2f897db56013c1180f4317d338)\n",
            "Reusing dataset paws (/root/.cache/huggingface/datasets/paws/labeled_final/1.1.0/8d567c6472623f42bd2cc635cad06932d0f0cd2f897db56013c1180f4317d338)\n"
          ]
        }
      ]
    },
    {
      "cell_type": "code",
      "source": [
        "train_data=pd.DataFrame(train_data)\n",
        "eval_data=pd.DataFrame(eval_data)\n",
        "test_data=pd.DataFrame(test_data)"
      ],
      "metadata": {
        "id": "jDX7ERJiDMA0"
      },
      "execution_count": 34,
      "outputs": []
    },
    {
      "cell_type": "code",
      "source": [
        "#Loading Augmented SQuAD dataset \n",
        "df=pd.read_csv(\"SQuAD_PAWS.csv\")"
      ],
      "metadata": {
        "id": "amsL_YvGEVpD"
      },
      "execution_count": 35,
      "outputs": []
    },
    {
      "cell_type": "code",
      "source": [
        "#Splitting the Augmented SQuAD Dataset into train,val,test\n",
        "train_spaws, eval_spaws, test_spaws = np.split(df.sample(frac=1, random_state=42), [int(.7*len(df)), int(.8*len(df))])"
      ],
      "metadata": {
        "id": "xMdm9C1KEhQg"
      },
      "execution_count": 36,
      "outputs": []
    },
    {
      "cell_type": "code",
      "source": [
        "#Renaming columns\n",
        "train_spaws.rename(columns={'text':'sentence1','Paraphrase':'sentence2'},inplace=True)\n",
        "eval_spaws.rename(columns={'text':'sentence1','Paraphrase':'sentence2'},inplace=True)\n",
        "test_spaws.rename(columns={'text':'sentence1','Paraphrase':'sentence2'},inplace=True)\n",
        "\n",
        "train_spaws=train_spaws[['id','sentence1','sentence2','label']]\n",
        "eval_spaws=eval_spaws[['id','sentence1','sentence2','label']]\n",
        "test_spaws=test_spaws[['id','sentence1','sentence2','label']]\n"
      ],
      "metadata": {
        "id": "WAL3DinwEnk4"
      },
      "execution_count": 37,
      "outputs": []
    },
    {
      "cell_type": "code",
      "source": [
        "#Merging with PAWS with SQuAD \n",
        "train_data=train_data.append(train_spaws)\n",
        "test_data=test_data.append(test_spaws)\n",
        "eval_data=eval_data.append(eval_spaws)"
      ],
      "metadata": {
        "id": "PqKAcPBSFRut"
      },
      "execution_count": 38,
      "outputs": []
    },
    {
      "cell_type": "markdown",
      "source": [
        "#####Converting to PyTorch DataLoaders"
      ],
      "metadata": {
        "id": "oqmeXWunV12A"
      }
    },
    {
      "cell_type": "code",
      "source": [
        "train_data = TensorDataset(*convert_examples_to_features(train_data, \"Creating training samples\"))\n",
        "#train_sampler = RandomSampler(train_data)\n",
        "train_sampler = SequentialSampler(train_data)\n",
        "train_data_loader = DataLoader(train_data, sampler=train_sampler, batch_size=batch_size)\n",
        "\n",
        "eval_data = TensorDataset(*convert_examples_to_features(eval_data, \"Creating evaluation samples\"))\n",
        "eval_sampler = SequentialSampler(eval_data)\n",
        "validation_data_loader = DataLoader(eval_data, sampler=eval_sampler, batch_size=batch_size)\n",
        "\n",
        "test_data = TensorDataset(*convert_examples_to_features(test_data, \"Creating test samples\"))\n",
        "test_sampler = SequentialSampler(test_data)\n",
        "test_data_loader = DataLoader(test_data, sampler=test_sampler, batch_size=batch_size)"
      ],
      "metadata": {
        "colab": {
          "base_uri": "https://localhost:8080/"
        },
        "id": "P-oL0GR_Ddmc",
        "outputId": "c867588c-5cd3-427a-b0f7-13d8f89a2f9f"
      },
      "execution_count": 39,
      "outputs": [
        {
          "output_type": "stream",
          "name": "stdout",
          "text": [
            "Creating training samples: 100%|\u001b[34m██████████\u001b[39m| 52686/52686 [01:20<00:00, 657.87it/s]\n",
            "Creating evaluation samples: 100%|\u001b[34m██████████\u001b[39m| 8469/8469 [00:11<00:00, 747.78it/s]\n",
            "Creating test samples: 100%|\u001b[34m██████████\u001b[39m| 8939/8939 [00:11<00:00, 767.89it/s]\n"
          ]
        }
      ]
    },
    {
      "cell_type": "markdown",
      "source": [
        "#####Evaluating Fine-Tuned Model's performance on Augmented PAWS Data before fine-tuning on this"
      ],
      "metadata": {
        "id": "1hP1JkS6V_r3"
      }
    },
    {
      "cell_type": "code",
      "source": [
        "print(\"Accuracy of the Fine-Tuned Model on Augmented PAWS datset before training on PAWS\")\n",
        "test_accuracy(model,test_data_loader)"
      ],
      "metadata": {
        "colab": {
          "base_uri": "https://localhost:8080/"
        },
        "id": "3MnPjhkRD02u",
        "outputId": "0371c15a-902c-4514-bd30-de8f3724349f"
      },
      "execution_count": 40,
      "outputs": [
        {
          "output_type": "stream",
          "name": "stdout",
          "text": [
            "Accuracy of the Fine-Tuned Model on Augmented PAWS datset before training on PAWS\n",
            "Test Accuracy: 0.5020125223613596\n"
          ]
        }
      ]
    },
    {
      "cell_type": "markdown",
      "source": [
        "#####Fine-Tuning on PAWS Dataset"
      ],
      "metadata": {
        "id": "V97LoeCCWlCM"
      }
    },
    {
      "cell_type": "code",
      "source": [
        "epochs=3\n",
        "model=train(epochs,model,train_data_loader,validation_data_loader,len(train_data),len(eval_data))"
      ],
      "metadata": {
        "id": "fSHVa0cAvAQx"
      },
      "execution_count": null,
      "outputs": []
    },
    {
      "cell_type": "markdown",
      "source": [
        "#####Checking the performance of the fully trained model"
      ],
      "metadata": {
        "id": "ujichA_vWsUR"
      }
    },
    {
      "cell_type": "code",
      "source": [
        "print(\"Accuracy of the Fine-Tuned Model on Augmented PAWS datset after training on Augmented PAWS\")\n",
        "test_accuracy(model,test_data_loader)"
      ],
      "metadata": {
        "id": "RnaQJx0bu64S"
      },
      "execution_count": null,
      "outputs": []
    },
    {
      "cell_type": "markdown",
      "source": [
        "#####Saving the final fine-tuned model to G-Drive"
      ],
      "metadata": {
        "id": "l6a3pftVXEWX"
      }
    },
    {
      "cell_type": "code",
      "source": [
        "directory = \"/drive/My Drive/Dissertation/Bert_PAWS\"\n",
        "tokenizer_directory = \"/drive/My Drive/Dissertation/Bert_PAWS/tokenizer\"\n",
        "if not os.path.exists(directory):\n",
        "    os.makedirs(directory)\n",
        "if not os.path.exists(tokenizer_directory):\n",
        "    os.makedirs(tokenizer_directory)\n",
        "\n",
        "# save vocabulary of the tokenizer\n",
        "tokenizer.save_pretrained(tokenizer_directory)\n",
        "# save the model weights and its configuration file\n",
        "model.save_pretrained(directory)"
      ],
      "metadata": {
        "id": "oEnLwiuCQR6_"
      },
      "execution_count": 45,
      "outputs": []
    },
    {
      "cell_type": "code",
      "source": [
        ""
      ],
      "metadata": {
        "id": "Fy_pqP7H5aaB"
      },
      "execution_count": null,
      "outputs": []
    }
  ]
}