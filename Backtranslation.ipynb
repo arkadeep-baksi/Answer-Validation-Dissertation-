{
  "nbformat": 4,
  "nbformat_minor": 0,
  "metadata": {
    "colab": {
      "name": "Backtranslation.ipynb",
      "provenance": []
    },
    "kernelspec": {
      "name": "python3",
      "display_name": "Python 3"
    },
    "language_info": {
      "name": "python"
    }
  },
  "cells": [
    {
      "cell_type": "markdown",
      "source": [
        "#Installing necessary libraries"
      ],
      "metadata": {
        "id": "0_oMmBN3qBYn"
      }
    },
    {
      "cell_type": "code",
      "execution_count": null,
      "metadata": {
        "colab": {
          "base_uri": "https://localhost:8080/"
        },
        "id": "9fndJ63W2gN9",
        "outputId": "501120b0-798a-434c-9034-15d0a815f85c"
      },
      "outputs": [
        {
          "output_type": "stream",
          "name": "stdout",
          "text": [
            "Requirement already satisfied: transformers in /usr/local/lib/python3.7/dist-packages (4.18.0)\n",
            "Requirement already satisfied: packaging>=20.0 in /usr/local/lib/python3.7/dist-packages (from transformers) (21.3)\n",
            "Requirement already satisfied: tokenizers!=0.11.3,<0.13,>=0.11.1 in /usr/local/lib/python3.7/dist-packages (from transformers) (0.12.1)\n",
            "Requirement already satisfied: filelock in /usr/local/lib/python3.7/dist-packages (from transformers) (3.6.0)\n",
            "Requirement already satisfied: huggingface-hub<1.0,>=0.1.0 in /usr/local/lib/python3.7/dist-packages (from transformers) (0.5.1)\n",
            "Requirement already satisfied: regex!=2019.12.17 in /usr/local/lib/python3.7/dist-packages (from transformers) (2019.12.20)\n",
            "Requirement already satisfied: numpy>=1.17 in /usr/local/lib/python3.7/dist-packages (from transformers) (1.21.6)\n",
            "Requirement already satisfied: tqdm>=4.27 in /usr/local/lib/python3.7/dist-packages (from transformers) (4.64.0)\n",
            "Requirement already satisfied: requests in /usr/local/lib/python3.7/dist-packages (from transformers) (2.23.0)\n",
            "Requirement already satisfied: pyyaml>=5.1 in /usr/local/lib/python3.7/dist-packages (from transformers) (6.0)\n",
            "Requirement already satisfied: importlib-metadata in /usr/local/lib/python3.7/dist-packages (from transformers) (4.11.3)\n",
            "Requirement already satisfied: sacremoses in /usr/local/lib/python3.7/dist-packages (from transformers) (0.0.53)\n",
            "Requirement already satisfied: typing-extensions>=3.7.4.3 in /usr/local/lib/python3.7/dist-packages (from huggingface-hub<1.0,>=0.1.0->transformers) (4.2.0)\n",
            "Requirement already satisfied: pyparsing!=3.0.5,>=2.0.2 in /usr/local/lib/python3.7/dist-packages (from packaging>=20.0->transformers) (3.0.8)\n",
            "Requirement already satisfied: zipp>=0.5 in /usr/local/lib/python3.7/dist-packages (from importlib-metadata->transformers) (3.8.0)\n",
            "Requirement already satisfied: urllib3!=1.25.0,!=1.25.1,<1.26,>=1.21.1 in /usr/local/lib/python3.7/dist-packages (from requests->transformers) (1.24.3)\n",
            "Requirement already satisfied: chardet<4,>=3.0.2 in /usr/local/lib/python3.7/dist-packages (from requests->transformers) (3.0.4)\n",
            "Requirement already satisfied: idna<3,>=2.5 in /usr/local/lib/python3.7/dist-packages (from requests->transformers) (2.10)\n",
            "Requirement already satisfied: certifi>=2017.4.17 in /usr/local/lib/python3.7/dist-packages (from requests->transformers) (2021.10.8)\n",
            "Requirement already satisfied: six in /usr/local/lib/python3.7/dist-packages (from sacremoses->transformers) (1.15.0)\n",
            "Requirement already satisfied: joblib in /usr/local/lib/python3.7/dist-packages (from sacremoses->transformers) (1.1.0)\n",
            "Requirement already satisfied: click in /usr/local/lib/python3.7/dist-packages (from sacremoses->transformers) (7.1.2)\n",
            "Requirement already satisfied: sentencepiece in /usr/local/lib/python3.7/dist-packages (0.1.96)\n"
          ]
        }
      ],
      "source": [
        "!pip install transformers\n",
        "!pip install sentencepiece\n",
        "from transformers import MarianMTModel, MarianTokenizer"
      ]
    },
    {
      "cell_type": "markdown",
      "source": [
        "#Models for Backtranslation"
      ],
      "metadata": {
        "id": "mXVa9HlMqIhT"
      }
    },
    {
      "cell_type": "code",
      "source": [
        "# Get the name of the first model\n",
        "first_model_name = 'Helsinki-NLP/opus-mt-en-fr'\n",
        "\n",
        "# Get the tokenizer\n",
        "first_model_tkn = MarianTokenizer.from_pretrained(first_model_name)\n",
        "\n",
        "# Load the pretrained model based on the name\n",
        "first_model = MarianMTModel.from_pretrained(first_model_name)"
      ],
      "metadata": {
        "id": "HPjwI8Ym2u69"
      },
      "execution_count": null,
      "outputs": []
    },
    {
      "cell_type": "code",
      "source": [
        "# Get the name of the second model\n",
        "second_model_name = 'Helsinki-NLP/opus-mt-fr-en'\n",
        "\n",
        "# Get the tokenizer\n",
        "second_model_tkn = MarianTokenizer.from_pretrained(second_model_name)\n",
        "\n",
        "# Load the pretrained model based on the name\n",
        "second_model = MarianMTModel.from_pretrained(second_model_name)"
      ],
      "metadata": {
        "id": "ypWH3HoE23Xv"
      },
      "execution_count": null,
      "outputs": []
    },
    {
      "cell_type": "code",
      "source": [
        "import pandas as pd\n",
        "squad=pd.read_csv(\"SQuAD.csv\")\n",
        "original_texts=list(squad.text)"
      ],
      "metadata": {
        "id": "WxBcWSHM2-KF"
      },
      "execution_count": null,
      "outputs": []
    },
    {
      "cell_type": "markdown",
      "source": [
        "##Eng-French Translation"
      ],
      "metadata": {
        "id": "6whOSZfaqQT7"
      }
    },
    {
      "cell_type": "code",
      "source": [
        "def format_batch_texts(language_code, batch_texts):\n",
        "  \n",
        "  formated_bach = [\">>{}<< {}\".format(language_code, text) for text in batch_texts]\n",
        "\n",
        "  return formated_bach"
      ],
      "metadata": {
        "id": "u3cFHSS33Rk7"
      },
      "execution_count": null,
      "outputs": []
    },
    {
      "cell_type": "code",
      "source": [
        "# Test of the function\n",
        "format_batch_texts(\"fr\", original_texts)"
      ],
      "metadata": {
        "id": "-ypPDmB8W4J6"
      },
      "execution_count": null,
      "outputs": []
    },
    {
      "cell_type": "code",
      "source": [
        "def perform_translation(batch_texts, model, tokenizer, language=\"fr\"):\n",
        "    # Prepare the text data into appropriate format for the model\n",
        "    formated_batch_texts = format_batch_texts(language, batch_texts)\n",
        "    \n",
        "    # Generate translation using model\n",
        "    translated = model.generate(**tokenizer(formated_batch_texts, return_tensors=\"pt\", padding=True))\n",
        "\n",
        "    # Convert the generated tokens indices back into text\n",
        "    translated_texts = [tokenizer.decode(t, skip_special_tokens=True) for t in translated]\n",
        "    \n",
        "    return translated_texts"
      ],
      "metadata": {
        "id": "g2c6JVM_3Ybq"
      },
      "execution_count": null,
      "outputs": []
    },
    {
      "cell_type": "code",
      "source": [
        "squad.shape"
      ],
      "metadata": {
        "colab": {
          "base_uri": "https://localhost:8080/"
        },
        "id": "U05gtm68MlLh",
        "outputId": "4e5499d2-172f-4bc4-867f-5223363110a5"
      },
      "execution_count": null,
      "outputs": [
        {
          "output_type": "execute_result",
          "data": {
            "text/plain": [
              "(4693, 6)"
            ]
          },
          "metadata": {},
          "execution_count": 10
        }
      ]
    },
    {
      "cell_type": "code",
      "source": [
        "import time \n",
        "start=time.time()\n",
        "translated_texts=[]\n",
        "for i in range(0,4680,10):\n",
        "  original_texts=list(squad['text'])[i:i+10]\n",
        "  translated_texts.extend(perform_translation(original_texts, first_model, first_model_tkn))\n",
        "print(f\"Total Time Taken: {time.time()-start}\")"
      ],
      "metadata": {
        "id": "naZ2ePvyXAOv"
      },
      "execution_count": null,
      "outputs": []
    },
    {
      "cell_type": "markdown",
      "source": [
        "##Back Translation to English"
      ],
      "metadata": {
        "id": "Jl_UIjrhqW8n"
      }
    },
    {
      "cell_type": "code",
      "source": [
        "start=time.time()\n",
        "back_translated_texts=[]\n",
        "for i in range(0,4680,10):\n",
        "  back_translated_texts.extend(perform_translation(translated_texts[i:i+10], second_model, second_model_tkn))\n",
        "  print(i)\n",
        "print(f\"Total Time Taken: {time.time()-start}\")"
      ],
      "metadata": {
        "id": "XAwf5G10pnMY"
      },
      "execution_count": null,
      "outputs": []
    }
  ]
}