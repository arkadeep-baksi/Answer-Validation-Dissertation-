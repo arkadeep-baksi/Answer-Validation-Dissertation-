{
 "cells": [
  {
   "cell_type": "code",
   "execution_count": 1,
   "id": "12380eed",
   "metadata": {},
   "outputs": [],
   "source": [
    "import pandas as pd"
   ]
  },
  {
   "cell_type": "code",
   "execution_count": 2,
   "id": "58bde2b5",
   "metadata": {},
   "outputs": [],
   "source": [
    "df=pd.read_csv(\"SQuAD_csv.csv\")"
   ]
  },
  {
   "cell_type": "code",
   "execution_count": 3,
   "id": "7e5b7955",
   "metadata": {},
   "outputs": [
    {
     "data": {
      "text/plain": [
       "(86821, 6)"
      ]
     },
     "execution_count": 3,
     "metadata": {},
     "output_type": "execute_result"
    }
   ],
   "source": [
    "df.shape"
   ]
  },
  {
   "cell_type": "code",
   "execution_count": 4,
   "id": "694a7529",
   "metadata": {},
   "outputs": [
    {
     "data": {
      "text/plain": [
       "Index(['Unnamed: 0', 'context', 'question', 'id', 'answer_start', 'text'], dtype='object')"
      ]
     },
     "execution_count": 4,
     "metadata": {},
     "output_type": "execute_result"
    }
   ],
   "source": [
    "df.columns"
   ]
  },
  {
   "cell_type": "code",
   "execution_count": 5,
   "id": "ec2d06f5",
   "metadata": {},
   "outputs": [],
   "source": [
    "df.drop(columns=['Unnamed: 0'],inplace=True)"
   ]
  },
  {
   "cell_type": "code",
   "execution_count": 6,
   "id": "856506ec",
   "metadata": {},
   "outputs": [
    {
     "data": {
      "text/html": [
       "<div>\n",
       "<style scoped>\n",
       "    .dataframe tbody tr th:only-of-type {\n",
       "        vertical-align: middle;\n",
       "    }\n",
       "\n",
       "    .dataframe tbody tr th {\n",
       "        vertical-align: top;\n",
       "    }\n",
       "\n",
       "    .dataframe thead th {\n",
       "        text-align: right;\n",
       "    }\n",
       "</style>\n",
       "<table border=\"1\" class=\"dataframe\">\n",
       "  <thead>\n",
       "    <tr style=\"text-align: right;\">\n",
       "      <th></th>\n",
       "      <th>context</th>\n",
       "      <th>question</th>\n",
       "      <th>id</th>\n",
       "      <th>answer_start</th>\n",
       "      <th>text</th>\n",
       "    </tr>\n",
       "  </thead>\n",
       "  <tbody>\n",
       "    <tr>\n",
       "      <th>0</th>\n",
       "      <td>Beyoncé Giselle Knowles-Carter (/biːˈjɒnseɪ/ b...</td>\n",
       "      <td>When did Beyonce start becoming popular?</td>\n",
       "      <td>56be85543aeaaa14008c9063</td>\n",
       "      <td>269</td>\n",
       "      <td>in the late 1990s</td>\n",
       "    </tr>\n",
       "    <tr>\n",
       "      <th>1</th>\n",
       "      <td>Beyoncé Giselle Knowles-Carter (/biːˈjɒnseɪ/ b...</td>\n",
       "      <td>What areas did Beyonce compete in when she was...</td>\n",
       "      <td>56be85543aeaaa14008c9065</td>\n",
       "      <td>207</td>\n",
       "      <td>singing and dancing</td>\n",
       "    </tr>\n",
       "    <tr>\n",
       "      <th>2</th>\n",
       "      <td>Beyoncé Giselle Knowles-Carter (/biːˈjɒnseɪ/ b...</td>\n",
       "      <td>When did Beyonce leave Destiny's Child and bec...</td>\n",
       "      <td>56be85543aeaaa14008c9066</td>\n",
       "      <td>526</td>\n",
       "      <td>2003</td>\n",
       "    </tr>\n",
       "    <tr>\n",
       "      <th>3</th>\n",
       "      <td>Beyoncé Giselle Knowles-Carter (/biːˈjɒnseɪ/ b...</td>\n",
       "      <td>In what city and state did Beyonce  grow up?</td>\n",
       "      <td>56bf6b0f3aeaaa14008c9601</td>\n",
       "      <td>166</td>\n",
       "      <td>Houston, Texas</td>\n",
       "    </tr>\n",
       "    <tr>\n",
       "      <th>4</th>\n",
       "      <td>Beyoncé Giselle Knowles-Carter (/biːˈjɒnseɪ/ b...</td>\n",
       "      <td>In which decade did Beyonce become famous?</td>\n",
       "      <td>56bf6b0f3aeaaa14008c9602</td>\n",
       "      <td>276</td>\n",
       "      <td>late 1990s</td>\n",
       "    </tr>\n",
       "  </tbody>\n",
       "</table>\n",
       "</div>"
      ],
      "text/plain": [
       "                                             context  \\\n",
       "0  Beyoncé Giselle Knowles-Carter (/biːˈjɒnseɪ/ b...   \n",
       "1  Beyoncé Giselle Knowles-Carter (/biːˈjɒnseɪ/ b...   \n",
       "2  Beyoncé Giselle Knowles-Carter (/biːˈjɒnseɪ/ b...   \n",
       "3  Beyoncé Giselle Knowles-Carter (/biːˈjɒnseɪ/ b...   \n",
       "4  Beyoncé Giselle Knowles-Carter (/biːˈjɒnseɪ/ b...   \n",
       "\n",
       "                                            question  \\\n",
       "0           When did Beyonce start becoming popular?   \n",
       "1  What areas did Beyonce compete in when she was...   \n",
       "2  When did Beyonce leave Destiny's Child and bec...   \n",
       "3      In what city and state did Beyonce  grow up?    \n",
       "4         In which decade did Beyonce become famous?   \n",
       "\n",
       "                         id  answer_start                 text  \n",
       "0  56be85543aeaaa14008c9063           269    in the late 1990s  \n",
       "1  56be85543aeaaa14008c9065           207  singing and dancing  \n",
       "2  56be85543aeaaa14008c9066           526                 2003  \n",
       "3  56bf6b0f3aeaaa14008c9601           166       Houston, Texas  \n",
       "4  56bf6b0f3aeaaa14008c9602           276           late 1990s  "
      ]
     },
     "execution_count": 6,
     "metadata": {},
     "output_type": "execute_result"
    }
   ],
   "source": [
    "df.head()"
   ]
  },
  {
   "cell_type": "code",
   "execution_count": 7,
   "id": "a0e8cf4b",
   "metadata": {},
   "outputs": [],
   "source": [
    "def text_split(text):\n",
    "    return len(text.split())"
   ]
  },
  {
   "cell_type": "code",
   "execution_count": 8,
   "id": "f85ccc5a",
   "metadata": {},
   "outputs": [],
   "source": [
    "df['text']=df['text'].astype(str)"
   ]
  },
  {
   "cell_type": "code",
   "execution_count": 9,
   "id": "a2c21452",
   "metadata": {},
   "outputs": [],
   "source": [
    "df['Answer_length']=df.text.apply(text_split)"
   ]
  },
  {
   "cell_type": "code",
   "execution_count": 10,
   "id": "b5a3c0dd",
   "metadata": {},
   "outputs": [
    {
     "data": {
      "text/html": [
       "<div>\n",
       "<style scoped>\n",
       "    .dataframe tbody tr th:only-of-type {\n",
       "        vertical-align: middle;\n",
       "    }\n",
       "\n",
       "    .dataframe tbody tr th {\n",
       "        vertical-align: top;\n",
       "    }\n",
       "\n",
       "    .dataframe thead th {\n",
       "        text-align: right;\n",
       "    }\n",
       "</style>\n",
       "<table border=\"1\" class=\"dataframe\">\n",
       "  <thead>\n",
       "    <tr style=\"text-align: right;\">\n",
       "      <th></th>\n",
       "      <th>context</th>\n",
       "      <th>question</th>\n",
       "      <th>id</th>\n",
       "      <th>answer_start</th>\n",
       "      <th>text</th>\n",
       "      <th>Answer_length</th>\n",
       "    </tr>\n",
       "  </thead>\n",
       "  <tbody>\n",
       "    <tr>\n",
       "      <th>0</th>\n",
       "      <td>Beyoncé Giselle Knowles-Carter (/biːˈjɒnseɪ/ b...</td>\n",
       "      <td>When did Beyonce start becoming popular?</td>\n",
       "      <td>56be85543aeaaa14008c9063</td>\n",
       "      <td>269</td>\n",
       "      <td>in the late 1990s</td>\n",
       "      <td>4</td>\n",
       "    </tr>\n",
       "    <tr>\n",
       "      <th>1</th>\n",
       "      <td>Beyoncé Giselle Knowles-Carter (/biːˈjɒnseɪ/ b...</td>\n",
       "      <td>What areas did Beyonce compete in when she was...</td>\n",
       "      <td>56be85543aeaaa14008c9065</td>\n",
       "      <td>207</td>\n",
       "      <td>singing and dancing</td>\n",
       "      <td>3</td>\n",
       "    </tr>\n",
       "    <tr>\n",
       "      <th>2</th>\n",
       "      <td>Beyoncé Giselle Knowles-Carter (/biːˈjɒnseɪ/ b...</td>\n",
       "      <td>When did Beyonce leave Destiny's Child and bec...</td>\n",
       "      <td>56be85543aeaaa14008c9066</td>\n",
       "      <td>526</td>\n",
       "      <td>2003</td>\n",
       "      <td>1</td>\n",
       "    </tr>\n",
       "    <tr>\n",
       "      <th>3</th>\n",
       "      <td>Beyoncé Giselle Knowles-Carter (/biːˈjɒnseɪ/ b...</td>\n",
       "      <td>In what city and state did Beyonce  grow up?</td>\n",
       "      <td>56bf6b0f3aeaaa14008c9601</td>\n",
       "      <td>166</td>\n",
       "      <td>Houston, Texas</td>\n",
       "      <td>2</td>\n",
       "    </tr>\n",
       "    <tr>\n",
       "      <th>4</th>\n",
       "      <td>Beyoncé Giselle Knowles-Carter (/biːˈjɒnseɪ/ b...</td>\n",
       "      <td>In which decade did Beyonce become famous?</td>\n",
       "      <td>56bf6b0f3aeaaa14008c9602</td>\n",
       "      <td>276</td>\n",
       "      <td>late 1990s</td>\n",
       "      <td>2</td>\n",
       "    </tr>\n",
       "  </tbody>\n",
       "</table>\n",
       "</div>"
      ],
      "text/plain": [
       "                                             context  \\\n",
       "0  Beyoncé Giselle Knowles-Carter (/biːˈjɒnseɪ/ b...   \n",
       "1  Beyoncé Giselle Knowles-Carter (/biːˈjɒnseɪ/ b...   \n",
       "2  Beyoncé Giselle Knowles-Carter (/biːˈjɒnseɪ/ b...   \n",
       "3  Beyoncé Giselle Knowles-Carter (/biːˈjɒnseɪ/ b...   \n",
       "4  Beyoncé Giselle Knowles-Carter (/biːˈjɒnseɪ/ b...   \n",
       "\n",
       "                                            question  \\\n",
       "0           When did Beyonce start becoming popular?   \n",
       "1  What areas did Beyonce compete in when she was...   \n",
       "2  When did Beyonce leave Destiny's Child and bec...   \n",
       "3      In what city and state did Beyonce  grow up?    \n",
       "4         In which decade did Beyonce become famous?   \n",
       "\n",
       "                         id  answer_start                 text  Answer_length  \n",
       "0  56be85543aeaaa14008c9063           269    in the late 1990s              4  \n",
       "1  56be85543aeaaa14008c9065           207  singing and dancing              3  \n",
       "2  56be85543aeaaa14008c9066           526                 2003              1  \n",
       "3  56bf6b0f3aeaaa14008c9601           166       Houston, Texas              2  \n",
       "4  56bf6b0f3aeaaa14008c9602           276           late 1990s              2  "
      ]
     },
     "execution_count": 10,
     "metadata": {},
     "output_type": "execute_result"
    }
   ],
   "source": [
    "df.head()"
   ]
  },
  {
   "cell_type": "code",
   "execution_count": 11,
   "id": "5412cc2b",
   "metadata": {},
   "outputs": [
    {
     "data": {
      "text/plain": [
       "Answer_length\n",
       "1     31007\n",
       "2     21412\n",
       "3     12686\n",
       "4      6345\n",
       "5      4003\n",
       "6      2513\n",
       "7      1825\n",
       "8      1369\n",
       "9       968\n",
       "10      778\n",
       "11      636\n",
       "12      536\n",
       "13      437\n",
       "14      390\n",
       "15      344\n",
       "16      244\n",
       "17      240\n",
       "18      225\n",
       "19      161\n",
       "20      149\n",
       "21      131\n",
       "22      120\n",
       "23       99\n",
       "24       64\n",
       "25       60\n",
       "26       35\n",
       "27       23\n",
       "28       10\n",
       "29        3\n",
       "30        6\n",
       "31        1\n",
       "43        1\n",
       "dtype: int64"
      ]
     },
     "execution_count": 11,
     "metadata": {},
     "output_type": "execute_result"
    }
   ],
   "source": [
    "df.groupby('Answer_length').size()"
   ]
  },
  {
   "cell_type": "code",
   "execution_count": 17,
   "id": "175c7537",
   "metadata": {},
   "outputs": [],
   "source": [
    "df_copy=df[df['Answer_length']>=10]"
   ]
  },
  {
   "cell_type": "code",
   "execution_count": 18,
   "id": "d15b070a",
   "metadata": {},
   "outputs": [
    {
     "data": {
      "text/plain": [
       "(4693, 6)"
      ]
     },
     "execution_count": 18,
     "metadata": {},
     "output_type": "execute_result"
    }
   ],
   "source": [
    "df_copy.shape"
   ]
  },
  {
   "cell_type": "code",
   "execution_count": 19,
   "id": "f073de77",
   "metadata": {},
   "outputs": [
    {
     "data": {
      "text/html": [
       "<div>\n",
       "<style scoped>\n",
       "    .dataframe tbody tr th:only-of-type {\n",
       "        vertical-align: middle;\n",
       "    }\n",
       "\n",
       "    .dataframe tbody tr th {\n",
       "        vertical-align: top;\n",
       "    }\n",
       "\n",
       "    .dataframe thead th {\n",
       "        text-align: right;\n",
       "    }\n",
       "</style>\n",
       "<table border=\"1\" class=\"dataframe\">\n",
       "  <thead>\n",
       "    <tr style=\"text-align: right;\">\n",
       "      <th></th>\n",
       "      <th>context</th>\n",
       "      <th>question</th>\n",
       "      <th>id</th>\n",
       "      <th>answer_start</th>\n",
       "      <th>text</th>\n",
       "      <th>Answer_length</th>\n",
       "    </tr>\n",
       "  </thead>\n",
       "  <tbody>\n",
       "    <tr>\n",
       "      <th>443</th>\n",
       "      <td>In 2001, she became the first African-American...</td>\n",
       "      <td>Beyonce received the Pop Songwriter of the Yea...</td>\n",
       "      <td>56beb9203aeaaa14008c92d2</td>\n",
       "      <td>132</td>\n",
       "      <td>American Society of Composers, Authors, and Pu...</td>\n",
       "      <td>10</td>\n",
       "    </tr>\n",
       "    <tr>\n",
       "      <th>451</th>\n",
       "      <td>In 2001, she became the first African-American...</td>\n",
       "      <td>Who gave Beyoncé the Pop Songwriter of the Yea...</td>\n",
       "      <td>56d4df312ccc5a1400d832b7</td>\n",
       "      <td>128</td>\n",
       "      <td>the American Society of Composers, Authors, an...</td>\n",
       "      <td>11</td>\n",
       "    </tr>\n",
       "    <tr>\n",
       "      <th>695</th>\n",
       "      <td>Beyoncé and her mother introduced House of Der...</td>\n",
       "      <td>What types of garments are sold by Beyonce's c...</td>\n",
       "      <td>56bed32f3aeaaa14008c94d2</td>\n",
       "      <td>670</td>\n",
       "      <td>sportswear, denim offerings with fur, outerwea...</td>\n",
       "      <td>13</td>\n",
       "    </tr>\n",
       "    <tr>\n",
       "      <th>736</th>\n",
       "      <td>Beyoncé participated in George Clooney and Wyc...</td>\n",
       "      <td>What charity benefited from  the release of th...</td>\n",
       "      <td>56bfeb09a10cfb1400551394</td>\n",
       "      <td>849</td>\n",
       "      <td>New York Police and Fire Widows' and Children'...</td>\n",
       "      <td>10</td>\n",
       "    </tr>\n",
       "    <tr>\n",
       "      <th>926</th>\n",
       "      <td>Four boarders at his parents' apartments becam...</td>\n",
       "      <td>What four boys from his family's boarding hous...</td>\n",
       "      <td>56cf67c74df3c31400b0d72d</td>\n",
       "      <td>68</td>\n",
       "      <td>Tytus Woyciechowski, Jan Nepomucen Białobłocki...</td>\n",
       "      <td>10</td>\n",
       "    </tr>\n",
       "  </tbody>\n",
       "</table>\n",
       "</div>"
      ],
      "text/plain": [
       "                                               context  \\\n",
       "443  In 2001, she became the first African-American...   \n",
       "451  In 2001, she became the first African-American...   \n",
       "695  Beyoncé and her mother introduced House of Der...   \n",
       "736  Beyoncé participated in George Clooney and Wyc...   \n",
       "926  Four boarders at his parents' apartments becam...   \n",
       "\n",
       "                                              question  \\\n",
       "443  Beyonce received the Pop Songwriter of the Yea...   \n",
       "451  Who gave Beyoncé the Pop Songwriter of the Yea...   \n",
       "695  What types of garments are sold by Beyonce's c...   \n",
       "736  What charity benefited from  the release of th...   \n",
       "926  What four boys from his family's boarding hous...   \n",
       "\n",
       "                           id  answer_start  \\\n",
       "443  56beb9203aeaaa14008c92d2           132   \n",
       "451  56d4df312ccc5a1400d832b7           128   \n",
       "695  56bed32f3aeaaa14008c94d2           670   \n",
       "736  56bfeb09a10cfb1400551394           849   \n",
       "926  56cf67c74df3c31400b0d72d            68   \n",
       "\n",
       "                                                  text  Answer_length  \n",
       "443  American Society of Composers, Authors, and Pu...             10  \n",
       "451  the American Society of Composers, Authors, an...             11  \n",
       "695  sportswear, denim offerings with fur, outerwea...             13  \n",
       "736  New York Police and Fire Widows' and Children'...             10  \n",
       "926  Tytus Woyciechowski, Jan Nepomucen Białobłocki...             10  "
      ]
     },
     "execution_count": 19,
     "metadata": {},
     "output_type": "execute_result"
    }
   ],
   "source": [
    "df_copy.head()"
   ]
  },
  {
   "cell_type": "code",
   "execution_count": 20,
   "id": "556a0340",
   "metadata": {},
   "outputs": [],
   "source": [
    "df_copy.to_csv(\"SQuAD.csv\",index=False)"
   ]
  },
  {
   "cell_type": "code",
   "execution_count": null,
   "id": "11236199",
   "metadata": {},
   "outputs": [],
   "source": []
  }
 ],
 "metadata": {
  "kernelspec": {
   "display_name": "Python 3",
   "language": "python",
   "name": "python3"
  },
  "language_info": {
   "codemirror_mode": {
    "name": "ipython",
    "version": 3
   },
   "file_extension": ".py",
   "mimetype": "text/x-python",
   "name": "python",
   "nbconvert_exporter": "python",
   "pygments_lexer": "ipython3",
   "version": "3.7.10"
  }
 },
 "nbformat": 4,
 "nbformat_minor": 5
}
